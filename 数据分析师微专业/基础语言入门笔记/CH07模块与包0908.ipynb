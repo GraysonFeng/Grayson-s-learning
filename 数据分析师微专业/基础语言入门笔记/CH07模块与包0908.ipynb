{
 "cells": [
  {
   "cell_type": "markdown",
   "metadata": {},
   "source": [
    "## 两种方法引用自建模块"
   ]
  },
  {
   "cell_type": "code",
   "execution_count": 1,
   "metadata": {},
   "outputs": [],
   "source": [
    "#1.查询pandas.__file__ 路径后放入文件"
   ]
  },
  {
   "cell_type": "markdown",
   "metadata": {},
   "source": [
    "2.引用路径下的文件"
   ]
  },
  {
   "cell_type": "markdown",
   "metadata": {},
   "source": [
    "## 方法一"
   ]
  },
  {
   "cell_type": "markdown",
   "metadata": {},
   "source": [
    "### 把自建模块放到site-packages文件夹下"
   ]
  },
  {
   "cell_type": "code",
   "execution_count": 5,
   "metadata": {},
   "outputs": [
    {
     "name": "stdout",
     "output_type": "stream",
     "text": [
      "C:\\Users\\chen jia ni\\Anaconda3\\lib\\site-packages\\pandas\\__init__.py\n"
     ]
    }
   ],
   "source": [
    "import pandas\n",
    "print(pandas.__file__)"
   ]
  },
  {
   "cell_type": "code",
   "execution_count": 12,
   "metadata": {},
   "outputs": [
    {
     "name": "stdout",
     "output_type": "stream",
     "text": [
      "hh\n"
     ]
    }
   ],
   "source": [
    "import testmodel\n",
    "print('hh')"
   ]
  },
  {
   "cell_type": "code",
   "execution_count": 18,
   "metadata": {},
   "outputs": [
    {
     "name": "stdout",
     "output_type": "stream",
     "text": [
      "数据分析微专业python\n",
      "81\n"
     ]
    }
   ],
   "source": [
    "testmodel.inf()\n",
    "print(testmodel.fun(3,4))"
   ]
  },
  {
   "cell_type": "markdown",
   "metadata": {},
   "source": [
    "## 方法二"
   ]
  },
  {
   "cell_type": "markdown",
   "metadata": {},
   "source": [
    "### 引用路径,转到该路径"
   ]
  },
  {
   "cell_type": "code",
   "execution_count": 22,
   "metadata": {},
   "outputs": [],
   "source": [
    "import sys\n",
    "sys.path.append('C:\\\\Users\\\\chen jia ni\\\\Desktop')"
   ]
  },
  {
   "cell_type": "code",
   "execution_count": 23,
   "metadata": {},
   "outputs": [],
   "source": [
    "import testmodel2"
   ]
  },
  {
   "cell_type": "code",
   "execution_count": 25,
   "metadata": {},
   "outputs": [
    {
     "data": {
      "text/plain": [
       "4"
      ]
     },
     "execution_count": 25,
     "metadata": {},
     "output_type": "execute_result"
    }
   ],
   "source": [
    "testmodel2.fun(2,2)"
   ]
  },
  {
   "cell_type": "code",
   "execution_count": 27,
   "metadata": {},
   "outputs": [],
   "source": [
    "# import 语句\n",
    "# import as\n",
    "# 调用部分模块语句 ：From。。。import 语句：\n",
    "# 单独导入模块部分功能，不能使用其他功能"
   ]
  },
  {
   "cell_type": "code",
   "execution_count": 31,
   "metadata": {},
   "outputs": [
    {
     "name": "stdout",
     "output_type": "stream",
     "text": [
      "0.7093045585856349 34.76574370109665\n"
     ]
    }
   ],
   "source": [
    "# python标准模块 ——random随机数\n",
    "\n",
    "import random\n",
    "x = random.random()#0,1的随机数\n",
    "y = random.random() \n",
    "print(x,y*100)"
   ]
  },
  {
   "cell_type": "code",
   "execution_count": 32,
   "metadata": {},
   "outputs": [
    {
     "name": "stdout",
     "output_type": "stream",
     "text": [
      "70\n"
     ]
    }
   ],
   "source": [
    "m = random.randint(0,99)#生成自然数\n",
    "print(m)"
   ]
  },
  {
   "cell_type": "code",
   "execution_count": 43,
   "metadata": {},
   "outputs": [
    {
     "name": "stdout",
     "output_type": "stream",
     "text": [
      "47\n"
     ]
    }
   ],
   "source": [
    "lst = list(range(100))#转换成列表\n",
    "s = random.choice(lst)#()必须是序列,随机取值\n",
    "print(s)"
   ]
  },
  {
   "cell_type": "code",
   "execution_count": 45,
   "metadata": {},
   "outputs": [
    {
     "name": "stdout",
     "output_type": "stream",
     "text": [
      "[86, 36, 11, 90, 81, 43, 55, 34, 85]\n"
     ]
    }
   ],
   "source": [
    "# 随机取片段\n",
    "\n",
    "sli = random.sample(lst,9)\n",
    "print(sli)"
   ]
  },
  {
   "cell_type": "markdown",
   "metadata": {},
   "source": [
    "### 随机打乱 shuffle"
   ]
  },
  {
   "cell_type": "code",
   "execution_count": 47,
   "metadata": {},
   "outputs": [
    {
     "name": "stdout",
     "output_type": "stream",
     "text": [
      "[55, 86, 36, 85, 90, 11, 81, 43, 34]\n"
     ]
    }
   ],
   "source": [
    "random.shuffle(sli)\n",
    "print(sli)"
   ]
  },
  {
   "cell_type": "code",
   "execution_count": 49,
   "metadata": {},
   "outputs": [
    {
     "name": "stdout",
     "output_type": "stream",
     "text": [
      "hello\n",
      "hello\n",
      "hello\n",
      "hello\n",
      "hello\n",
      "Sun Sep  9 10:55:01 2018\n"
     ]
    }
   ],
   "source": [
    "# time 模块\n",
    "\n",
    "import time\n",
    "\n",
    "for i in range(5):\n",
    "    print('hello')\n",
    "    time.sleep(3)\n",
    "    \n",
    "#生成当时时间点，是个字符串\n",
    "print(time.ctime())"
   ]
  },
  {
   "cell_type": "code",
   "execution_count": 50,
   "metadata": {},
   "outputs": [],
   "source": [
    "#  将当前时间转为当前时区的 struct_time ,这是个视图，视图是有结构"
   ]
  },
  {
   "cell_type": "code",
   "execution_count": 51,
   "metadata": {},
   "outputs": [],
   "source": [
    "# wday 0-6表示周日到周六\n",
    "# ydat 1-366 一年中的第几天\n",
    "# isdst 是否为夏令时，默认为-1"
   ]
  },
  {
   "cell_type": "code",
   "execution_count": 52,
   "metadata": {},
   "outputs": [
    {
     "name": "stdout",
     "output_type": "stream",
     "text": [
      "time.struct_time(tm_year=2018, tm_mon=9, tm_mday=9, tm_hour=10, tm_min=59, tm_sec=25, tm_wday=6, tm_yday=252, tm_isdst=0)\n",
      "<class 'time.struct_time'>\n"
     ]
    }
   ],
   "source": [
    "print(time.localtime())\n",
    "print(type(time.localtime()))"
   ]
  },
  {
   "cell_type": "code",
   "execution_count": 54,
   "metadata": {},
   "outputs": [
    {
     "name": "stdout",
     "output_type": "stream",
     "text": [
      "2018-09-09 11:04:34\n"
     ]
    }
   ],
   "source": [
    "# strftime 格式化localtime并显示出来\n",
    "\n",
    "print(time.strftime('%Y-%m-%d %H:%M:%S',time.localtime()))\n",
    "# time.strftime(a,b)\n",
    "# a为格式化字符串格式\n",
    "# b为时间戳，一般用local.time()"
   ]
  },
  {
   "cell_type": "code",
   "execution_count": 57,
   "metadata": {},
   "outputs": [
    {
     "name": "stdout",
     "output_type": "stream",
     "text": [
      "<class 'str'>\n"
     ]
    }
   ],
   "source": [
    "print(type(time.strftime('%Y-%m-%d %H:%M:%S',time.localtime())))"
   ]
  },
  {
   "cell_type": "markdown",
   "metadata": {},
   "source": [
    "## 包的概念及python包管理工具 ： pip"
   ]
  },
  {
   "cell_type": "markdown",
   "metadata": {},
   "source": [
    "在cmd中运行，安装包：pip install xxx\n",
    "    卸载 pip uninstall xxx"
   ]
  },
  {
   "cell_type": "markdown",
   "metadata": {},
   "source": [
    "pip 查看参数"
   ]
  },
  {
   "cell_type": "markdown",
   "metadata": {},
   "source": [
    "pip list 查看安装的包"
   ]
  },
  {
   "cell_type": "markdown",
   "metadata": {},
   "source": [
    "## 运行文件，要cd到该目录下"
   ]
  },
  {
   "cell_type": "markdown",
   "metadata": {},
   "source": [
    "如：cd Desktop   \n",
    "\n",
    "python dashuju.py"
   ]
  },
  {
   "cell_type": "markdown",
   "metadata": {},
   "source": [
    "盘与盘之间转换，cd F:// python2，用f:实际转到F盘"
   ]
  },
  {
   "cell_type": "markdown",
   "metadata": {},
   "source": [
    "然后再python dashuju.py"
   ]
  }
 ],
 "metadata": {
  "kernelspec": {
   "display_name": "Python 3",
   "language": "python",
   "name": "python3"
  },
  "language_info": {
   "codemirror_mode": {
    "name": "ipython",
    "version": 3
   },
   "file_extension": ".py",
   "mimetype": "text/x-python",
   "name": "python",
   "nbconvert_exporter": "python",
   "pygments_lexer": "ipython3",
   "version": "3.6.3"
  }
 },
 "nbformat": 4,
 "nbformat_minor": 2
}
