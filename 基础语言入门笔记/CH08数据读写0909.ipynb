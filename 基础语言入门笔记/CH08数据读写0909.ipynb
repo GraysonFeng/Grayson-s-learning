{
 "cells": [
  {
   "cell_type": "code",
   "execution_count": 1,
   "metadata": {},
   "outputs": [
    {
     "name": "stdout",
     "output_type": "stream",
     "text": [
      "The Zen of Python, by Tim Peters\n",
      "\n",
      "Beautiful is better than ugly.\n",
      "Explicit is better than implicit.\n",
      "Simple is better than complex.\n",
      "Complex is better than complicated.\n",
      "Flat is better than nested.\n",
      "Sparse is better than dense.\n",
      "Readability counts.\n",
      "Special cases aren't special enough to break the rules.\n",
      "Although practicality beats purity.\n",
      "Errors should never pass silently.\n",
      "Unless explicitly silenced.\n",
      "In the face of ambiguity, refuse the temptation to guess.\n",
      "There should be one-- and preferably only one --obvious way to do it.\n",
      "Although that way may not be obvious at first unless you're Dutch.\n",
      "Now is better than never.\n",
      "Although never is often better than *right* now.\n",
      "If the implementation is hard to explain, it's a bad idea.\n",
      "If the implementation is easy to explain, it may be a good idea.\n",
      "Namespaces are one honking great idea -- let's do more of those!\n"
     ]
    }
   ],
   "source": [
    "import this"
   ]
  },
  {
   "cell_type": "code",
   "execution_count": 2,
   "metadata": {},
   "outputs": [],
   "source": [
    "path1='C:\\\\Users\\\\chen jia ni\\\\Desktop\\\\test.txt'\n",
    "path2='C:/Users/chen jia ni/Desktop/test.txt'\n",
    "path3=r'C:\\Users\\chen jia ni\\Desktop\\test.txt'"
   ]
  },
  {
   "cell_type": "code",
   "execution_count": 3,
   "metadata": {},
   "outputs": [
    {
     "name": "stdout",
     "output_type": "stream",
     "text": [
      "C:\\Users\\chen jia ni\\Desktop\\test.txt\n",
      "C:/Users/chen jia ni/Desktop/test.txt\n",
      "C:\\Users\\chen jia ni\\Desktop\\test.txt\n"
     ]
    }
   ],
   "source": [
    "print(path1)\n",
    "print(path2)\n",
    "print(path3)"
   ]
  },
  {
   "cell_type": "code",
   "execution_count": 4,
   "metadata": {},
   "outputs": [
    {
     "name": "stdout",
     "output_type": "stream",
     "text": [
      "<class '_io.TextIOWrapper'>\n",
      "<_io.TextIOWrapper name='C:\\\\Users\\\\chen jia ni\\\\Desktop\\\\test.txt' mode='r' encoding='cp936'>\n"
     ]
    }
   ],
   "source": [
    "# 读取文件：open语句\n",
    "f = open(path1,'r')\n",
    "print(type(f))\n",
    "print(f)"
   ]
  },
  {
   "cell_type": "code",
   "execution_count": 5,
   "metadata": {},
   "outputs": [
    {
     "name": "stdout",
     "output_type": "stream",
     "text": [
      "he Zen of Python, by Tim Peters\n",
      "\n",
      "Beautiful is better than ugly.\n",
      "Explicit is better than implicit.\n",
      "Simple is better than complex.\n",
      "Complex is better than complicated.\n",
      "Flat is better than nested.\n",
      "Sparse is better than dense.\n",
      "Readability counts.\n",
      "读取完毕\n"
     ]
    }
   ],
   "source": [
    "print(f.read())\n",
    "print('读取完毕')"
   ]
  },
  {
   "cell_type": "code",
   "execution_count": 6,
   "metadata": {},
   "outputs": [],
   "source": [
    "# open('路径','模式' , encoding = '编码')\n",
    "# 模式：r:读取文件，默认  ；\n",
    "# 模式：w: 写入；\n",
    "# 模式：rw:读取+写入；\n",
    "# 模式: a:追加"
   ]
  },
  {
   "cell_type": "code",
   "execution_count": 7,
   "metadata": {},
   "outputs": [],
   "source": [
    "# 简单的读取方法 read()"
   ]
  },
  {
   "cell_type": "code",
   "execution_count": 18,
   "metadata": {},
   "outputs": [],
   "source": [
    "# 读取的文件有中文，编码设置成utf-8,encoding='utf-8'"
   ]
  },
  {
   "cell_type": "code",
   "execution_count": 8,
   "metadata": {},
   "outputs": [],
   "source": [
    "# 第一次读取后，光标位于末尾，再读取是没有内容的"
   ]
  },
  {
   "cell_type": "code",
   "execution_count": 10,
   "metadata": {},
   "outputs": [
    {
     "name": "stdout",
     "output_type": "stream",
     "text": [
      "三次读取\n",
      "he Zen of Python, by Tim Peters\n",
      "\n",
      "Beautiful is better than ugly.\n",
      "Explicit is better than implicit.\n",
      "Simple is better than complex.\n",
      "Complex is better than complicated.\n",
      "Flat is better than nested.\n",
      "Sparse is better than dense.\n",
      "Readability counts.\n",
      "三次读取完毕\n"
     ]
    }
   ],
   "source": [
    "f.seek(0)#将光标前移\n",
    "print('三次读取')\n",
    "print(f.read())\n",
    "print('三次读取完毕')"
   ]
  },
  {
   "cell_type": "markdown",
   "metadata": {},
   "source": [
    "## f.seek()将光标前移"
   ]
  },
  {
   "cell_type": "markdown",
   "metadata": {},
   "source": [
    "## os 模块 ：系统模块 — 常用命令"
   ]
  },
  {
   "cell_type": "code",
   "execution_count": 11,
   "metadata": {},
   "outputs": [
    {
     "name": "stdout",
     "output_type": "stream",
     "text": [
      "nt\n"
     ]
    }
   ],
   "source": [
    "import os\n",
    "print(os.name)#输出系统工作平台名字"
   ]
  },
  {
   "cell_type": "code",
   "execution_count": 12,
   "metadata": {},
   "outputs": [],
   "source": [
    "# windows 用 nt ，linux/Unix用户，用 posix"
   ]
  },
  {
   "cell_type": "code",
   "execution_count": 16,
   "metadata": {},
   "outputs": [
    {
     "name": "stdout",
     "output_type": "stream",
     "text": [
      "C:\\Users\\chen jia ni\\数据分析师\\基础语言入门\n"
     ]
    }
   ],
   "source": [
    "print(os.getcwd())# 生成当前脚本所在路径"
   ]
  },
  {
   "cell_type": "code",
   "execution_count": 15,
   "metadata": {},
   "outputs": [
    {
     "name": "stdout",
     "output_type": "stream",
     "text": [
      "['.ipynb_checkpoints', 'CH06函数0908.ipynb', 'CH07模块与包0908.ipynb', 'CH08数据读写0909.ipynb']\n"
     ]
    }
   ],
   "source": [
    "print(os.listdir())# 生成当前目录下的所有目录"
   ]
  },
  {
   "cell_type": "code",
   "execution_count": 27,
   "metadata": {},
   "outputs": [
    {
     "name": "stdout",
     "output_type": "stream",
     "text": [
      "C:\\Users\\chen jia ni\\Desktop\n",
      "['.accelerate', '360安全浏览器.lnk', '360极速浏览器.lnk', 'Anaconda Prompt.lnk', 'bigdata.csv', 'dashuju.py', 'desktop.ini', 'Excel 2016.lnk', 'feng-区块链项目管理文档.xlsx', 'feng-每天任务管理清单.xlsx', 'Git Bash.lnk', 'Github', 'GitHub Desktop.lnk', 'jieba-0.39', 'Jupyter Notebook.lnk', 'MySQL 8.0 Command Line Client - Unicode.lnk', 'Notepad.lnk', 'Office', 'Outlook.lnk', 'Python 15天学习计划.pdf', 'QQ音乐.lnk', 'ScrToPic.lnk', 'silicloud', 'Steam.lnk', 'sublime_text.lnk', 'TED：你有拖延症吗？.txt', 'test.txt', 'test2.txt', 'Word 2016.lnk', '__pycache__', '~$密钥.docx', '【非常重要】Python数据分析师微专业_课程资料', '【非常重要】Python数据分析师微专业_项目资料', '上海租房_上海租房网_上海房屋出租(上海链家网)-采集的数据-后羿采集器.xlsx', '佳妮测试案例.xlsx', '区块链商议事宜0816.xlsx', '区块链新题纲0824.docx', '区块链论文', '图谋论.xlsx', '实验楼.lnk', '数据分析软件', '日月光华机器学习素材', '有道云笔记.lnk', '桌面-其它', '模拟旋风图0824.xlsx', '每天任务管理清单模板.xlsx', '深度学习分享会（1）notes', '猴子', '百度网盘.lnk', '练习数据', '网易日月光华']\n"
     ]
    }
   ],
   "source": [
    "# 改变工作路径\n",
    "os.chdir('C:/Users/chen jia ni/Desktop')\n",
    "print(os.getcwd())# 生成当前脚本所在路径\n",
    "print(os.listdir())# 生成当前目录下的所有目录\n",
    "os.remove('test2.txt')#删除该路径下文件"
   ]
  },
  {
   "cell_type": "code",
   "execution_count": 28,
   "metadata": {},
   "outputs": [],
   "source": [
    "# 分开 文件路径+文件名，元组\n",
    "flst = os.path.split('C:/Users/chen jia ni/Desktop')"
   ]
  },
  {
   "cell_type": "code",
   "execution_count": 29,
   "metadata": {},
   "outputs": [
    {
     "name": "stdout",
     "output_type": "stream",
     "text": [
      "('C:/Users/chen jia ni', 'Desktop') <class 'tuple'>\n"
     ]
    }
   ],
   "source": [
    "print(flst,type(flst))"
   ]
  },
  {
   "cell_type": "code",
   "execution_count": 32,
   "metadata": {},
   "outputs": [
    {
     "name": "stdout",
     "output_type": "stream",
     "text": [
      "True\n"
     ]
    }
   ],
   "source": [
    "# 判断文件是否存在 os.path.exists\n",
    "\n",
    "print(os.path.exists('C:/Users/chen jia ni/Desktop'))"
   ]
  },
  {
   "cell_type": "markdown",
   "metadata": {},
   "source": [
    "## 相对路径和绝对路径"
   ]
  },
  {
   "cell_type": "code",
   "execution_count": 33,
   "metadata": {},
   "outputs": [],
   "source": [
    "# 先定义一个工作目录，直接open 文件名"
   ]
  },
  {
   "cell_type": "code",
   "execution_count": 34,
   "metadata": {},
   "outputs": [],
   "source": [
    "os.chdir('C:/Users/chen jia ni/Desktop/')\n",
    "f2 = open('test.txt')"
   ]
  },
  {
   "cell_type": "code",
   "execution_count": 35,
   "metadata": {},
   "outputs": [
    {
     "data": {
      "text/plain": [
       "'he Zen of Python, by Tim Peters\\n\\nBeautiful is better than ugly.\\nExplicit is better than implicit.\\nSimple is better than complex.\\nComplex is better than complicated.\\nFlat is better than nested.\\nSparse is better than dense.\\nReadability counts.'"
      ]
     },
     "execution_count": 35,
     "metadata": {},
     "output_type": "execute_result"
    }
   ],
   "source": [
    "f2.read()"
   ]
  },
  {
   "cell_type": "markdown",
   "metadata": {},
   "source": [
    "## 文件的读取和写入"
   ]
  },
  {
   "cell_type": "code",
   "execution_count": 36,
   "metadata": {},
   "outputs": [],
   "source": [
    "# 文件的读取 - read"
   ]
  },
  {
   "cell_type": "code",
   "execution_count": 37,
   "metadata": {},
   "outputs": [],
   "source": [
    "# ANSI -'gbk'\n",
    "# UTF-8 -'utf-8'"
   ]
  },
  {
   "cell_type": "code",
   "execution_count": 38,
   "metadata": {},
   "outputs": [
    {
     "name": "stdout",
     "output_type": "stream",
     "text": [
      "he Zen of Python, by Tim Peters\n",
      "\n",
      "Beautiful is better than ugly.\n",
      "Explicit is better than implicit.\n",
      "Simple is better than complex.\n",
      "Complex is better than complicated.\n",
      "Flat is better than nested.\n",
      "Sparse is better than dense.\n",
      "Readability counts.\n"
     ]
    },
    {
     "data": {
      "text/plain": [
       "0"
      ]
     },
     "execution_count": 38,
     "metadata": {},
     "output_type": "execute_result"
    }
   ],
   "source": [
    "os.chdir('C:\\\\Users\\\\chen jia ni\\\\Desktop')\n",
    "f =open('test2.txt','r',encoding='utf-8')\n",
    "print(f.read())\n",
    "f.seek(0)"
   ]
  },
  {
   "cell_type": "code",
   "execution_count": 64,
   "metadata": {},
   "outputs": [
    {
     "name": "stdout",
     "output_type": "stream",
     "text": [
      "he Zen of \n"
     ]
    },
    {
     "data": {
      "text/plain": [
       "0"
      ]
     },
     "execution_count": 64,
     "metadata": {},
     "output_type": "execute_result"
    }
   ],
   "source": [
    "# 只读取前10个字符\n",
    "print(f.read(10))#光标会不断变，要用f.seek(0)归位\n",
    "f.seek(0)"
   ]
  },
  {
   "cell_type": "code",
   "execution_count": 65,
   "metadata": {},
   "outputs": [
    {
     "name": "stdout",
     "output_type": "stream",
     "text": [
      "he Zen of Python, by Tim Peters\n",
      "\n"
     ]
    }
   ],
   "source": [
    "# 一次性读取一行\n",
    "print(f.readline())"
   ]
  },
  {
   "cell_type": "code",
   "execution_count": 67,
   "metadata": {},
   "outputs": [
    {
     "name": "stdout",
     "output_type": "stream",
     "text": [
      "Beaut\n"
     ]
    }
   ],
   "source": [
    "# 读取一行中的前5个字符\n",
    "print(f.readline(5))"
   ]
  },
  {
   "cell_type": "code",
   "execution_count": 68,
   "metadata": {},
   "outputs": [
    {
     "name": "stdout",
     "output_type": "stream",
     "text": [
      "['he Zen of Python, by Tim Peters\\n', '\\n', 'Beautiful is better than ugly.\\n', 'Explicit is better than implicit.\\n', 'Simple is better than complex.\\n', 'Complex is better than complicated.\\n', 'Flat is better than nested.\\n', 'Sparse is better than dense.\\n', 'Readability counts.']\n"
     ]
    }
   ],
   "source": [
    "f.seek(0)\n",
    "print(f.readlines())"
   ]
  },
  {
   "cell_type": "code",
   "execution_count": 71,
   "metadata": {},
   "outputs": [
    {
     "name": "stdout",
     "output_type": "stream",
     "text": [
      "he Zen of Python, by Tim Peters\n",
      "\n",
      "\n",
      "\n",
      "Beautiful is better than ugly.\n",
      "\n",
      "Explicit is better than implicit.\n",
      "\n",
      "Simple is better than complex.\n",
      "\n",
      "Complex is better than complicated.\n",
      "\n",
      "Flat is better than nested.\n",
      "\n",
      "Sparse is better than dense.\n",
      "\n",
      "Readability counts.\n"
     ]
    }
   ],
   "source": [
    "# readline是用作遍历\n",
    "f.seek(0)\n",
    "for line in f.readlines():#列表\n",
    "    print(line)\n",
    "#遍历一个文件：for 语句+f.readlines()"
   ]
  },
  {
   "cell_type": "markdown",
   "metadata": {},
   "source": [
    "## 小作业"
   ]
  },
  {
   "cell_type": "code",
   "execution_count": 10,
   "metadata": {},
   "outputs": [],
   "source": [
    "os.chdir('C:/Users/chen jia ni/Desktop/')"
   ]
  },
  {
   "cell_type": "code",
   "execution_count": 11,
   "metadata": {},
   "outputs": [],
   "source": [
    "f = open('jiuba.txt','r',encoding='gbk')"
   ]
  },
  {
   "cell_type": "code",
   "execution_count": 12,
   "metadata": {},
   "outputs": [
    {
     "name": "stdout",
     "output_type": "stream",
     "text": [
      "[{'name': 'taxx', 'lng': '121.471271', 'lat': '31.229597', 'address': '巨鹿路158号B1层B1号'}, {'name': '外滩18号', 'lng': '121.49618', 'lat': '31.244099', 'address': '中山东一路18'}, {'name': 'perrys cafe', 'lng': '121.455668', 'lat': '31.217919', 'address': '上海市徐汇区淮海中路1333号兰帆广场3层'}, {'name': 'speak low', 'lng': '121.472243', 'lat': '31.220875', 'address': '黄浦区复兴中路579号(近瑞金二路)'}, {'name': '胡桃里(浦东金桥店)', 'lng': '121.608253', 'lat': '31.25886', 'address': '浙桥路289弄3号楼1层D区'}, {'name': 'MAO LIVEHOUSE SHANGHAI', 'lng': '121.478449', 'lat': '31.215929', 'address': '黄浦区重庆南路308号(近建国中路)'}, {'name': 'TZ House音乐现场(镇宁路店)', 'lng': '121.441528', 'lat': '31.230571', 'address': '上海市长宁区镇宁路525号新东纺大酒店1楼(万航渡路口)'}, {'name': 'KARTEL', 'lng': '121.460768', 'lat': '31.2272', 'address': '襄阳北路1号5楼'}, {'name': 'M1NT', 'lng': '121.490882', 'lat': '31.240288', 'address': '上海黄浦区福州路318号浦汇大厦24楼'}, {'name': 'Light酒吧', 'lng': '121.453435', 'lat': '31.211903', 'address': '衡山路10号甲欧登大夏2-3楼'}]\n",
      "\n",
      "总共转化数据574.000\n"
     ]
    }
   ],
   "source": [
    "m=[]\n",
    "n=0\n",
    "f.seek(0)\n",
    "for line in f.readlines():\n",
    "    n+=1\n",
    "    st1 = line.split(':')\n",
    "    name = st1[0]\n",
    "    information = st1[1]\n",
    "    st2 = information.split(',')\n",
    "    lng = st2[0]\n",
    "    lat=st2[1]\n",
    "    add=st2[2].strip()#去掉空格\n",
    "    data = [['name',name],['lng',lng],['lat',lat],['address',add]]\n",
    "    m.append(dict(data))\n",
    "print(m[:10])\n",
    "print('\\n总共转化数据%.3f'%n)"
   ]
  },
  {
   "cell_type": "markdown",
   "metadata": {},
   "source": [
    "## 用office2016生成可是化的3D 图表"
   ]
  },
  {
   "cell_type": "markdown",
   "metadata": {},
   "source": [
    "1.先导入文本"
   ]
  },
  {
   "cell_type": "markdown",
   "metadata": {},
   "source": [
    "2.ctrl+T 格式"
   ]
  },
  {
   "cell_type": "markdown",
   "metadata": {},
   "source": [
    "3.插入3D图"
   ]
  },
  {
   "cell_type": "markdown",
   "metadata": {},
   "source": [
    "4.设置经度(较长)"
   ]
  },
  {
   "cell_type": "markdown",
   "metadata": {},
   "source": [
    "5.设置纬度（较短）"
   ]
  },
  {
   "cell_type": "markdown",
   "metadata": {},
   "source": [
    "## 文件写入 - write"
   ]
  },
  {
   "cell_type": "markdown",
   "metadata": {},
   "source": [
    "一般要运行两遍才会见效"
   ]
  },
  {
   "cell_type": "code",
   "execution_count": 100,
   "metadata": {},
   "outputs": [
    {
     "name": "stdout",
     "output_type": "stream",
     "text": [
      "已完成\n"
     ]
    }
   ],
   "source": [
    "os.chdir('C:/Users/chen jia ni/Desktop/')\n",
    "f_w = open('test_w.txt','w',encoding='utf-8')#创建一个本来没有的文件\n",
    "f_w.write('hello world')#写入内容\n",
    "f.close()#关闭后才会真正写入，不然会在写入状态\n",
    "print('已完成')"
   ]
  },
  {
   "cell_type": "code",
   "execution_count": 101,
   "metadata": {},
   "outputs": [],
   "source": [
    "# writelines 依次写入,将列表元素写成字符串"
   ]
  },
  {
   "cell_type": "code",
   "execution_count": 102,
   "metadata": {},
   "outputs": [
    {
     "name": "stdout",
     "output_type": "stream",
     "text": [
      "finished\n"
     ]
    }
   ],
   "source": [
    "f_w = open('test_w.txt','w',encoding='utf-8')\n",
    "lst = ['1','2','nn']\n",
    "f_w.writelines(lst)\n",
    "f.close()\n",
    "print('finished')"
   ]
  },
  {
   "cell_type": "code",
   "execution_count": 104,
   "metadata": {},
   "outputs": [
    {
     "name": "stdout",
     "output_type": "stream",
     "text": [
      "['1\\n', '2\\n', 'nn\\n']\n",
      "finished\n"
     ]
    }
   ],
   "source": [
    "f_w = open('test_w.txt','w',encoding='utf-8')\n",
    "lst = ['1','2','nn']\n",
    "for i in range(len(lst)):\n",
    "    lst[i]=lst[i]+'\\n'\n",
    "print(lst)\n",
    "f_w.writelines(lst)\n",
    "f.close()\n",
    "print('finished')"
   ]
  },
  {
   "cell_type": "code",
   "execution_count": 105,
   "metadata": {},
   "outputs": [],
   "source": [
    "# 作业2代码"
   ]
  },
  {
   "cell_type": "markdown",
   "metadata": {},
   "source": [
    "## pickle"
   ]
  },
  {
   "cell_type": "code",
   "execution_count": 5,
   "metadata": {},
   "outputs": [],
   "source": [
    "# 存储\n",
    "import pickle\n",
    "import os\n",
    "os.chdir('C:/Users/chen jia ni/Desktop/')"
   ]
  },
  {
   "cell_type": "markdown",
   "metadata": {},
   "source": [
    "## 写入"
   ]
  },
  {
   "cell_type": "code",
   "execution_count": 7,
   "metadata": {},
   "outputs": [
    {
     "name": "stdout",
     "output_type": "stream",
     "text": [
      "{'a': [1, 2, 3, 4], 'b': 1, 'c': 'hello world'}\n",
      "finished\n"
     ]
    }
   ],
   "source": [
    "data = {'a':[1,2,3,4],'b':1,'c':'hello world'}\n",
    "print(data)\n",
    "pic = open('data.pkl','wb')#wb写入 \n",
    "\n",
    "pickle.dump(data,pic)#信息转储 pickle.dump(data,pic),pickle.dump()\n",
    "\n",
    "pic.close()\n",
    "print('finished')"
   ]
  },
  {
   "cell_type": "code",
   "execution_count": 13,
   "metadata": {},
   "outputs": [
    {
     "name": "stdout",
     "output_type": "stream",
     "text": [
      "finished\n"
     ]
    }
   ],
   "source": [
    "# 写入上文的m\n",
    "pic = open('m.pkl','wb')#wb写入 \n",
    "\n",
    "pickle.dump(m,pic)#信息转储 pickle.dump(data,pic),pickle.dump()\n",
    "\n",
    "pic.close()\n",
    "print('finished')"
   ]
  },
  {
   "cell_type": "markdown",
   "metadata": {},
   "source": [
    "## 读取"
   ]
  },
  {
   "cell_type": "code",
   "execution_count": 15,
   "metadata": {},
   "outputs": [
    {
     "name": "stdout",
     "output_type": "stream",
     "text": [
      "{'a': [1, 2, 3, 4], 'b': 1, 'c': 'hello world'}\n"
     ]
    }
   ],
   "source": [
    "pic2 =open('C:/Users/chen jia ni/Desktop/data.pkl','rb')\n",
    "\n",
    "data=pickle.load(pic2)\n",
    "print(data)"
   ]
  },
  {
   "cell_type": "code",
   "execution_count": 16,
   "metadata": {},
   "outputs": [
    {
     "name": "stdout",
     "output_type": "stream",
     "text": [
      "[{'name': 'taxx', 'lng': '121.471271', 'lat': '31.229597', 'address': '巨鹿路158号B1层B1号'}, {'name': '外滩18号', 'lng': '121.49618', 'lat': '31.244099', 'address': '中山东一路18'}, {'name': 'perrys cafe', 'lng': '121.455668', 'lat': '31.217919', 'address': '上海市徐汇区淮海中路1333号兰帆广场3层'}, {'name': 'speak low', 'lng': '121.472243', 'lat': '31.220875', 'address': '黄浦区复兴中路579号(近瑞金二路)'}, {'name': '胡桃里(浦东金桥店)', 'lng': '121.608253', 'lat': '31.25886', 'address': '浙桥路289弄3号楼1层D区'}, {'name': 'MAO LIVEHOUSE SHANGHAI', 'lng': '121.478449', 'lat': '31.215929', 'address': '黄浦区重庆南路308号(近建国中路)'}, {'name': 'TZ House音乐现场(镇宁路店)', 'lng': '121.441528', 'lat': '31.230571', 'address': '上海市长宁区镇宁路525号新东纺大酒店1楼(万航渡路口)'}, {'name': 'KARTEL', 'lng': '121.460768', 'lat': '31.2272', 'address': '襄阳北路1号5楼'}, {'name': 'M1NT', 'lng': '121.490882', 'lat': '31.240288', 'address': '上海黄浦区福州路318号浦汇大厦24楼'}, {'name': 'Light酒吧', 'lng': '121.453435', 'lat': '31.211903', 'address': '衡山路10号甲欧登大夏2-3楼'}, {'name': '啤酒阿姨', 'lng': '121.472944', 'lat': '31.246264', 'address': '上海市黄浦区南苏州路1247号'}, {'name': 'Dr.Beer(静安店)', 'lng': '121.456901', 'lat': '31.22696', 'address': '上海市静安区富民路83号(近延安中路)'}, {'name': 'zapata’s', 'lng': '121.455773', 'lat': '31.214576', 'address': '衡山路5号'}, {'name': '啤酒阿姨(延安西路店)', 'lng': '121.424226', 'lat': '31.214239', 'address': '上海市长宁区凯旋路1010号百脑通数码城1层'}, {'name': '育音堂', 'lng': '121.423257', 'lat': '31.215241', 'address': '长宁区凯旋路851号(凯旋路延安西路)'}, {'name': 'Bar Rouge', 'lng': '121.496388', 'lat': '31.244132', 'address': '上海黄浦区中山东一路18号外滩十八号7楼(近南京东路)'}, {'name': '尚上酒吧(丰庄路)', 'lng': '121.371012', 'lat': '31.255042', 'address': '丰庄路515号2楼'}, {'name': 'The Camel Sports Bar(岳阳路)', 'lng': '121.458533', 'lat': '31.215244', 'address': '上海市徐汇区岳阳路1号'}, {'name': 'ARKHAM', 'lng': '121.470633', 'lat': '31.229144', 'address': '巨鹿路168号'}, {'name': 'Le Baron', 'lng': '121.461343', 'lat': '31.222476', 'address': '东湖路20号7层'}, {'name': 'MALABAR', 'lng': '121.448588', 'lat': '31.236145', 'address': '上海市静安区武定路1081号'}, {'name': '夜魅COCO顶级酒吧(黄浦2店)', 'lng': '121.486669', 'lat': '31.23081', 'address': '淮海中路1号柳林大厦5F602'}, {'name': '非常时髦酒吧', 'lng': '121.499881', 'lat': '31.250982', 'address': '虹口区黄浦路199号上海外滩茂悦大酒店西楼32-33楼(近武昌路)'}, {'name': 'MTclub酒吧', 'lng': '121.368569', 'lat': '31.141267', 'address': '上海市闵行区七莘路1839号明泉财富108广场5层'}, {'name': 'Beer Plus啤加', 'lng': '121.444203', 'lat': '31.247129', 'address': '普陀区长寿路406号'}, {'name': '凯博西餐酒吧(新天地北里店)', 'lng': '121.481735', 'lat': '31.227078', 'address': '太仓路181弄上海新天地北里5号楼1层'}, {'name': '上海菲芘酒吧', 'lng': '121.452991', 'lat': '31.211962', 'address': '衡山路10-2号欧登大厦1层'}, {'name': 'The Fellas', 'lng': '121.497929', 'lat': '31.238205', 'address': '延安东路7号7层'}, {'name': 'Kee Club(淮海中路店)', 'lng': '121.469051', 'lat': '31.225011', 'address': '淮海中路796号3楼'}, {'name': '酒吧一条街', 'lng': '121.463524', 'lat': '31.216944', 'address': '上海市徐汇区永康路102号'}, {'name': 'heyday jazz bar', 'lng': '121.443428', 'lat': '31.212145', 'address': '上海市长宁区泰安路50-1号'}, {'name': 'EZ5 Live House', 'lng': '121.466184', 'lat': '31.233116', 'address': '茂名北路193弄4号2楼'}, {'name': 'OhBar LIVE HOUSE', 'lng': '121.481187', 'lat': '31.243035', 'address': '六合路158号1楼(近新世界)'}, {'name': 'Barules', 'lng': '121.460954', 'lat': '31.217807', 'address': '上海市徐汇区汾阳路44号'}, {'name': '芭芭露莎Barbarossa', 'lng': '121.478407', 'lat': '31.237303', 'address': '上海市黄浦区南京东路231号人民公园内'}, {'name': '萨莎花园', 'lng': '121.456043', 'lat': '31.214673', 'address': '上海市徐汇区东平路11号(近衡山路)'}, {'name': 'ROXIE', 'lng': '121.456283', 'lat': '31.240844', 'address': '上海市静安区康定路359号2楼'}, {'name': 'Dr Beer(徐家汇店)', 'lng': '121.449616', 'lat': '31.19867', 'address': '辛耕路117号'}, {'name': '缪斯酒吧(同乐坊店)', 'lng': '121.44924', 'lat': '31.242964', 'address': '上海市静安区余姚路74号'}, {'name': 'Epic', 'lng': '121.445038', 'lat': '31.216567', 'address': '高邮路17号(近复兴西路)'}, {'name': 'Lost Heaven Bund Lounge', 'lng': '121.497623', 'lat': '31.23803', 'address': '上海市黄浦区延安东路17号甲3F层'}, {'name': 'Elevator', 'lng': '121.459001', 'lat': '31.223281', 'address': '新乐路218-1号延庆路4弄小区东湖路新乐路金林商务楼4楼'}, {'name': '蓝蛙(正大店)', 'lng': '121.504317', 'lat': '31.241669', 'address': '上海市浦东新区拾步街9号富都世界富城路休闲街B1'}, {'name': 'BARBER SHOP', 'lng': '121.45515', 'lat': '31.210845', 'address': '永嘉路615号'}, {'name': 'UVA wine bar', 'lng': '121.45522', 'lat': '31.241929', 'address': '陕西北路819号(近康定路)'}, {'name': '奢居会', 'lng': '121.512398', 'lat': '31.224588', 'address': '中山南路505号老码头13号楼7楼'}, {'name': 'Mokkos bar(延平路店)', 'lng': '121.445136', 'lat': '31.238718', 'address': '延平路348号(康定路)'}, {'name': 'Le Vin', 'lng': '121.452136', 'lat': '31.222084', 'address': '上海静安区长乐路936号'}, {'name': '艾比尔啤酒坊(七宝店)', 'lng': '121.365072', 'lat': '31.147572', 'address': '七莘路2233号'}, {'name': 'X酒吧', 'lng': '121.217605', 'lat': '31.048667', 'address': '新松江路1292弄36号3层'}, {'name': 'PIER39(嘉里中心店)', 'lng': '121.456602', 'lat': '31.230612', 'address': '上海市静安区南京西路1515号静安嘉里中心F1'}, {'name': 'Cest La Vie 酒吧(八佰伴店)', 'lng': '121.527072', 'lat': '31.23405', 'address': '上海市浦东新区张扬路640号B1楼'}, {'name': 'Perrys bar', 'lng': '121.525528', 'lat': '31.234362', 'address': '上海市浦东新区张扬路601号浦东食品城4楼'}, {'name': 'V-Gear', 'lng': '121.48313', 'lat': '31.227543', 'address': '上海市黄浦区顺昌路2号(靠近好乐迪)'}, {'name': 'whisky cocktail', 'lng': '121.448397', 'lat': '31.236076', 'address': '上海市静安区武定路1093'}, {'name': 'Helens(上海控江路店)', 'lng': '121.521381', 'lat': '31.279948', 'address': '控江路1690号凤凰大厦2层'}, {'name': 'The Brewer瘾', 'lng': '121.480198', 'lat': '31.227213', 'address': '上海市黄浦区新天地太仓路200号(马当路太仓路交叉口)'}, {'name': '云晓音乐烤吧', 'lng': '121.600685', 'lat': '31.267636', 'address': '上海市浦东新区长岛路1262号'}, {'name': '王妃家(日月光中心广场店)', 'lng': '121.47536', 'lat': '31.212223', 'address': '上海市黄浦区徐家汇路618号日月光中心F4'}, {'name': 'BAR NO.3', 'lng': '121.444162', 'lat': '31.211133', 'address': '兴国路277-1临'}, {'name': 'BM103纯K俱乐部', 'lng': '121.442447', 'lat': '31.327567', 'address': '上海市宝山区共康路555号乙'}, {'name': '杰克的酒窝', 'lng': '121.48902', 'lat': '31.222824', 'address': '上海黄浦区肇周路76号'}, {'name': 'DAGA BREWPUB', 'lng': '121.444134', 'lat': '31.212105', 'address': '上海市徐汇区泰安路37号(近兴国路)'}, {'name': 'DUO Sports Bar', 'lng': '121.466098', 'lat': '31.233397', 'address': '上海市静安区茂名北路193弄16号'}, {'name': 'Mokkos', 'lng': '121.44001', 'lat': '31.231375', 'address': '武定西路1245号103室'}, {'name': 'Bar Constellation', 'lng': '121.469662', 'lat': '31.233991', 'address': '上海市静安区南京西路789号兴业太古汇F1'}, {'name': '赫佰仕啤酒坊(虹桥天地店)', 'lng': '121.322173', 'lat': '31.201048', 'address': '闵行区申长路888弄，虹桥天地3号B1-05号(虹桥火车站)'}, {'name': 'ROOF 325 Rooftop Restaurant & Bar', 'lng': '121.477444', 'lat': '31.237077', 'address': '黄浦区南京西路325号上海美术馆5楼(近黄陂北路)'}, {'name': 'Candor', 'lng': '121.466949', 'lat': '31.227125', 'address': '上海市黄浦区茂名南路57号'}, {'name': 'Listen Live House', 'lng': '121.44902', 'lat': '31.288563', 'address': '万荣路700号C6(灵石路红灯口全家超市旁-正门入口)'}, {'name': 'SUIT', 'lng': '121.470938', 'lat': '31.222327', 'address': '瑞金二路50-1号附近'}, {'name': 'Bar Aphrodite', 'lng': '121.447491', 'lat': '31.19069', 'address': '斜土路2905号1F花园内(零陵路)'}, {'name': '酒池星座(永嘉路店)', 'lng': '121.470177', 'lat': '31.216906', 'address': '永嘉路31号2楼'}, {'name': '艾比之路酒吧', 'lng': '121.457487', 'lat': '31.215288', 'address': '桃江路3号'}, {'name': 'Closless', 'lng': '121.465894', 'lat': '31.227635', 'address': '进贤路169号'}, {'name': 'BANANAMOON', 'lng': '121.458411', 'lat': '31.224306', 'address': '上海市静安区静安寺街道富民路259号(近长乐路)'}, {'name': '上海中航虹桥机场-泊悦酒店', 'lng': '121.334239', 'lat': '31.198386', 'address': '上海市闵行区虹桥路2550号上海虹桥国际机场T2航站楼F3'}, {'name': '典尚红酒吧', 'lng': '121.40693', 'lat': '31.200942', 'address': '上海市长宁区黄金城道701号1层、717弄12号103室'}, {'name': 'THE PARK TAVERN', 'lng': '121.446993', 'lat': '31.203312', 'address': '上海徐汇区衡山路840号(近天平路)'}, {'name': 'Park91Pub', 'lng': '121.472303', 'lat': '31.231448', 'address': '上海静安区大沽路433号(近石门一路)'}, {'name': 'KABB(静安嘉里店)', 'lng': '121.456', 'lat': '31.229357', 'address': '上海市静安区南京西路1515号静安嘉里中心F2'}, {'name': 'bu club', 'lng': '121.494966', 'lat': '31.246313', 'address': '北京东路99号益丰外滩源5楼(近圆明园路)'}, {'name': 'LaMaison夜来香 (进贤路店)', 'lng': '121.464743', 'lat': '31.227592', 'address': '黄浦区茂名南路58号花园饭店3楼(近淮海中路)'}, {'name': 'Pier 39', 'lng': '121.465538', 'lat': '31.227773', 'address': '黄浦区进贤路172号(近陕西南路)'}, {'name': 'ROLLING WHEELS酒吧', 'lng': '121.545658', 'lat': '31.239849', 'address': '上海市浦东新区张杨路500弄40号'}, {'name': '夜魅顶级酒吧(淮海路2号店)', 'lng': '121.486526', 'lat': '31.231128', 'address': '淮海中路8号兰生大厦7楼'}, {'name': '英式酒吧轰趴馆', 'lng': '121.496465', 'lat': '31.24996', 'address': '北苏州路20号上海大厦一楼(外白渡桥)'}, {'name': '安达仕酒廊', 'lng': '121.482281', 'lat': '31.228032', 'address': '上海黄浦区嵩山路88号1楼'}, {'name': '海若慢摇酒吧(鹤望路)', 'lng': '121.327502', 'lat': '31.250407', 'address': '鹤望路578号3楼'}, {'name': 'The Roof', 'lng': '121.457367', 'lat': '31.212417', 'address': '永嘉路570号永嘉庭5号楼4楼541'}, {'name': 'BigBamboo(虹梅路店)', 'lng': '121.394477', 'lat': '31.196894', 'address': '闵行区虹梅路3338弄2号虹梅休闲街(老外街)内(近延安西路)'}, {'name': '昨天·今天·明天', 'lng': '121.44264', 'lat': '31.2184', 'address': '上海长宁区华山路1038弄183号(曹家堰路口)'}, {'name': 'Celia Club', 'lng': '121.437879', 'lat': '31.214339', 'address': '上海市长宁区幸福路298号'}, {'name': '恰餐厅及酒吧', 'lng': '121.506694', 'lat': '31.231758', 'address': '中山东二路585号上海外滩英迪格酒店30层'}, {'name': 'fumo', 'lng': '121.458991', 'lat': '31.223272', 'address': '新乐路218号3楼(靠近东湖路)'}, {'name': 'GX Live House古溪音乐酒吧', 'lng': '121.326797', 'lat': '31.297566', 'address': '上海市嘉定区南翔镇槎溪路888弄2号世盟壹天地店101、102室'}, {'name': 'BONA酒吧式轰趴馆', 'lng': '121.497383', 'lat': '31.214521', 'address': '斜土东路23弄5号206室德昌公寓'}, {'name': '老船长酒吧', 'lng': '121.509372', 'lat': '31.256325', 'address': '上海市虹口区高阳路136号'}, {'name': 'Sidebar软式飞镖主题鸡尾酒酒吧', 'lng': '121.466592', 'lat': '31.227413', 'address': '茂名南路56号，56食尚谷内1楼'}, {'name': 'Wave Lounge', 'lng': '121.424677', 'lat': '31.21931', 'address': '凯旋路606号(近武夷路口)'}, {'name': '101国际酒吧(新大陆店)', 'lng': '121.525988', 'lat': '31.235038', 'address': '上海市浦东新区南泉北路528号新大陆广场(北楼)3层305室'}, {'name': '星期五餐厅·酒吧(陆家嘴滨江店)', 'lng': '121.504455', 'lat': '31.241528', 'address': '上海市浦东新区拾步街9号富都世界富城路休闲街B1'}, {'name': '新发展亚太万豪酒店-大堂酒吧', 'lng': '121.402789', 'lat': '31.227253', 'address': '普陀区大渡河路158号新发展亚太万豪酒店1楼大堂酒吧'}, {'name': 'DENO298', 'lng': '121.508183', 'lat': '31.105535', 'address': '上海市闵行区浦晓路68号晶采坊4楼'}, {'name': '零听酒吧', 'lng': '121.408202', 'lat': '31.139357', 'address': '上海闵行区古方路76号南方休闲广场5楼(近南方商城)'}, {'name': 'CAS BAR', 'lng': '121.448567', 'lat': '31.236072', 'address': '静安区武定路1089号(近延平路)'}, {'name': 'RICE BAR', 'lng': '121.430951', 'lat': '31.211241', 'address': '上海市长宁区法华镇路532-2临'}, {'name': 'THE GLAMOUR BAR', 'lng': '121.497251', 'lat': '31.240104', 'address': '广东路20外滩5号6层'}, {'name': '里巷有家店', 'lng': '121.454332', 'lat': '31.290029', 'address': '上海市静安区灵石路697号健康智谷创意园3号楼101-102室'}, {'name': '和平酒店-爵士BAR', 'lng': '121.496056', 'lat': '31.244758', 'address': '上海市黄浦区南京东路20号和平饭店1楼(近中山东一路)'}, {'name': 'iParty轰趴馆(大学路店)', 'lng': '121.514371', 'lat': '31.30862', 'address': '上海市杨浦区大学路307号3层301室'}, {'name': \"Ricky's西餐酒吧\", 'lng': '121.53782', 'lat': '31.246779', 'address': '浦东新区浦东大道930号(近源深路中信五牛城酒店公寓对面)'}, {'name': 'Feeling酒吧', 'lng': '121.471422', 'lat': '30.934768', 'address': '环城东路883弄39号'}, {'name': '外滩1288', 'lng': '121.510391', 'lat': '31.212969', 'address': '外马路1288号综合楼1楼'}, {'name': 'Project W', 'lng': '121.461165', 'lat': '31.226245', 'address': '上海静安区襄阳北路17号(近巨鹿路)'}, {'name': 'D.BAR', 'lng': '121.382664', 'lat': '31.177032', 'address': '银亭路66号1楼'}, {'name': 'Jstone杰意大利餐厅(襄阳公园店)', 'lng': '121.462278', 'lat': '31.223446', 'address': '上海市徐汇区襄阳北路100号襄阳坊2楼'}, {'name': 'CROCUS', 'lng': '121.448989', 'lat': '31.229238', 'address': '愚园支路18号(世纪时空大厦正门对面)'}, {'name': 'S3 PARTY SPACE', 'lng': '121.258076', 'lat': '31.379493', 'address': '城中路2号1-2层'}, {'name': 'Shrine', 'lng': '121.464351', 'lat': '31.226968', 'address': '长乐路462号UnitedValley内(XINCAFE旁边小楼)'}, {'name': 'NEO BAR', 'lng': '121.514553', 'lat': '31.302971', 'address': '杨浦区国定路335号复旦科技园创业中心'}, {'name': 'bell cafe&bar', 'lng': '121.475282', 'lat': '31.214136', 'address': '黄浦区泰康路248弄11号后门(近瑞金二路)'}, {'name': 'BrewBear精酿啤酒屋', 'lng': '121.466083', 'lat': '31.21082', 'address': '建国西路283号尚街LOFT1号楼109室'}, {'name': '贝尼酒吧', 'lng': '121.452369', 'lat': '31.209769', 'address': '上海徐汇区永嘉路705号'}, {'name': 'BigBamboo(南阳路)', 'lng': '121.457783', 'lat': '31.234559', 'address': '上海市静安区南阳路132号'}, {'name': 'ACE Bar', 'lng': '121.436685', 'lat': '31.210887', 'address': '上海市长宁区番禺路381号B幢'}, {'name': 'Lucky Bar(漕溪北路)', 'lng': '121.442352', 'lat': '31.189225', 'address': '漕溪北路930号(近零陵路)'}, {'name': '上海大厦-大堂酒廊', 'lng': '121.496499', 'lat': '31.250116', 'address': '上海市虹口区北苏州路20号上海大厦1层'}, {'name': '蓝堡酒吧(金一东路)', 'lng': '121.344428', 'lat': '30.718241', 'address': '上海市金山区石化一村11'}, {'name': '蓝蛙无限度店', 'lng': '121.484517', 'lat': '31.231405', 'address': '上海市黄浦区淮海中路138号上海广场F1'}, {'name': 'LLBAR', 'lng': '121.410357', 'lat': '31.195844', 'address': '上海市闵行区伊犁南路55临'}, {'name': 'scorpio天蝎座酒吧', 'lng': '121.364204', 'lat': '31.406432', 'address': '罗芬路689弄80号一楼(近国际会议中心香巴拉龙虾向前20米)'}, {'name': '壹号公馆', 'lng': '121.37877', 'lat': '31.254352', 'address': '上海市嘉定区梅川路1788号'}, {'name': 'Tap House(永康路店)', 'lng': '121.464424', 'lat': '31.217213', 'address': '上海市徐汇区永康路74号(近襄阳南路)'}, {'name': 'Above the Globe', 'lng': '121.462345', 'lat': '31.236605', 'address': '北京西路1013号7楼(江宁路)'}, {'name': '后院', 'lng': '121.473308', 'lat': '31.225162', 'address': '上海市黄浦区南昌路166弄8号'}, {'name': 'Banker', 'lng': '121.479154', 'lat': '31.21235', 'address': '上海市黄浦区斜徐路591号'}, {'name': \"Maia's西餐酒吧\", 'lng': '121.490549', 'lat': '31.281675', 'address': '上海市虹口区东体育会路318号'}, {'name': 'judy’s', 'lng': '121.455909', 'lat': '31.233695', 'address': '上海市静安区铜仁路331号-1(近南阳路)'}, {'name': '丽笙星空酒吧', 'lng': '121.479714', 'lat': '31.240424', 'address': '上海黄浦区南京西路88号新世界丽笙大酒店47楼(近西藏中路)'}, {'name': 'THE TIPSY FIDDLER', 'lng': '121.437469', 'lat': '31.209857', 'address': '长宁区法华镇路135号-6(在幸福路上)'}, {'name': '101酒吧', 'lng': '121.478413', 'lat': '30.924277', 'address': '南桥镇解放东路绿地翡翠国际广场1号楼(解放东路靠环城东路)'}, {'name': '兴国宾馆-大堂吧', 'lng': '121.44153', 'lat': '31.217165', 'address': '上海市长宁区兴国路78号兴国宾馆(华山路口)'}, {'name': '酒池星座(新乐路店)', 'lng': '121.461519', 'lat': '31.223987', 'address': '新乐路86'}, {'name': 'The White Hart 白鹿酒吧', 'lng': '121.385793', 'lat': '31.251115', 'address': '上海市普陀区梅川路步行街1466号(梅川路步行街)'}, {'name': 'Rose Paradise', 'lng': '121.390862', 'lat': '31.212782', 'address': '仙霞路798-2号'}, {'name': '乌托邦餐吧(康桥路店)', 'lng': '121.585145', 'lat': '31.15615', 'address': '康桥路1538号'}, {'name': '茂悦大酒店-嘉宾轩', 'lng': '121.499828', 'lat': '31.251209', 'address': '上海市虹口区黄浦路199号茂悦大酒店内'}, {'name': 'ERAASHANGHAI', 'lng': '121.469208', 'lat': '31.237417', 'address': '上海市静安区南京西路758号汇银大厦5层'}, {'name': '东安路十五号', 'lng': '121.45732', 'lat': '31.204925', 'address': '上海徐汇区东安路15号1楼'}, {'name': 'Road15', 'lng': '121.26382', 'lat': '31.374268', 'address': '民乐路15号'}, {'name': '康得思大堂酒廊', 'lng': '121.322723', 'lat': '31.201497', 'address': '申虹路333号1层上海虹桥康得思酒店'}, {'name': '鹅岛精酿啤酒屋', 'lng': '121.465836', 'lat': '31.233776', 'address': '上海市静安区茂名北路209号'}, {'name': '好久不见(华发路店)', 'lng': '121.453534', 'lat': '31.132987', 'address': '华发路383号'}, {'name': 'Mesh红酒吧', 'lng': '121.588102', 'lat': '31.140973', 'address': '上海市浦东新区秀沿路1166弄19号(近盛高假日酒店)'}, {'name': '火烈鸟精酿啤酒吧', 'lng': '121.360532', 'lat': '31.158201', 'address': '上海市闵行区七宝镇北西街84号'}, {'name': 'inferno', 'lng': '121.480672', 'lat': '31.199555', 'address': '打浦路658弄1号绿地海外滩广场1楼6-103'}, {'name': 'Biggie cafe bar', 'lng': '121.437083', 'lat': '31.196061', 'address': '南丹路168号宜山路路口'}, {'name': 'Walkers', 'lng': '121.475342', 'lat': '31.214117', 'address': '上海市黄浦区泰康路248弄12号'}, {'name': '开巴(定西路店)', 'lng': '121.430304', 'lat': '31.213895', 'address': '上海市长宁区定西路739号'}, {'name': '夜色酒吧(赵重公路)', 'lng': '121.192157', 'lat': '31.200935', 'address': '赵重公路2778弄115号2楼'}, {'name': '爱尔兰酒吧(向城路)', 'lng': '121.535173', 'lat': '31.229019', 'address': '上海浦东新区东方路899号浦东假日酒店内(近向城路)'}, {'name': 'un Caffe Bar', 'lng': '121.462045', 'lat': '31.235563', 'address': '江宁路77-3号恒顺大楼7楼(梅龙镇广场对面)'}, {'name': 'LOTUS Lounge', 'lng': '121.514007', 'lat': '31.22262', 'address': '上海黄浦区外马路667号(近老码头)'}, {'name': 'JZ Club', 'lng': '121.471952', 'lat': '31.229507', 'address': '上海市黄浦区巨鹿路158号'}, {'name': 'ppg时尚夜店', 'lng': '121.521382', 'lat': '31.308666', 'address': '上海市杨浦区淞沪路98号'}, {'name': 'Red Passion(新天酒吧)', 'lng': '121.510714', 'lat': '31.248213', 'address': '浦东新区陆家嘴环路1288号上海凯宾斯基大酒店30楼(近东方明珠)'}, {'name': 'KOALA BAR', 'lng': '121.435549', 'lat': '31.206381', 'address': '长宁区淮海西路280号(近番禺路)'}, {'name': '上海柏悦酒店-大堂酒吧', 'lng': '121.513412', 'lat': '31.240628', 'address': '上海市浦东新区世纪大道100号上海环球金融中心上海柏悦酒店87楼'}, {'name': '啡雪(slow snow)(九亭店)', 'lng': '121.321691', 'lat': '31.154702', 'address': '上海市松江区沪亭北路615号3楼'}, {'name': '爵士上海', 'lng': '121.471687', 'lat': '31.229495', 'address': '巨鹿路158号(延中广场内)'}, {'name': '遇见音乐餐厅酒吧', 'lng': '121.495716', 'lat': '31.254875', 'address': '上海市虹口区吴淞路299号附近'}, {'name': '啤酒老饕', 'lng': '121.459192', 'lat': '31.229078', 'address': '上海市静安区延安中路917号'}, {'name': 'ARCADE', 'lng': '121.451189', 'lat': '31.216836', 'address': '复兴西路57号2楼'}, {'name': 'X-Club镭战酒吧', 'lng': '121.464554', 'lat': '31.208756', 'address': '肇嘉浜路366号地下1楼B1室'}, {'name': '2IN1 Bar Restaurant', 'lng': '121.473021', 'lat': '31.229231', 'address': '巨鹿路158号158坊B1层'}, {'name': '葡道', 'lng': '121.445686', 'lat': '31.212878', 'address': '上海市徐汇区武康路376号武康庭102室(近泰安路)'}, {'name': '环球风暴酒吧', 'lng': '121.70415', 'lat': '31.199698', 'address': '川沙路4932号(近南桥路)'}, {'name': 'TY7', 'lng': '121.469131', 'lat': '31.214802', 'address': '绍兴路35号'}, {'name': '三利酒吧', 'lng': '121.507153', 'lat': '31.181102', 'address': '昌里路113号二楼'}, {'name': '悦榕酒廊', 'lng': '121.512469', 'lat': '31.255255', 'address': '海平路19号鹏欣外滩悦榕庄酒店2层'}, {'name': 'VITA Bistro & Bar', 'lng': '121.457043', 'lat': '31.21115', 'address': '上海市徐汇区永嘉路557号花园内(近乌鲁木齐南路)'}, {'name': 'WAKE', 'lng': '121.485397', 'lat': '31.409558', 'address': '上海市宝山区友谊路241-临'}, {'name': '派娜演艺酒吧', 'lng': '121.377886', 'lat': '31.182048', 'address': '虹井路288号燎申虹桥国际中心南6楼(近地铁10号线龙柏新村站)'}, {'name': '拉丝维加斯', 'lng': '121.456255', 'lat': '30.910584', 'address': '奉贤南桥育秀路1331号'}, {'name': 'V-House(法华镇路店)', 'lng': '121.425358', 'lat': '31.213939', 'address': '上海市长宁区法华镇路901号'}, {'name': '潘多拉(南方商城店)', 'lng': '121.406353', 'lat': '31.138297', 'address': '上海市闵行区沪闵路7388号百联南方购物中心F5'}, {'name': '上海浦东喜来登由由酒店-行政酒廊', 'lng': '121.524574', 'lat': '31.215057', 'address': '浦建路38号上海浦东喜来登由由酒店37层'}, {'name': 'Piano Bar(世纪大道店)', 'lng': '121.512202', 'lat': '31.240532', 'address': '上海市浦东新区世纪大道88号金茂君悦大酒店53层'}, {'name': 'Jupiter Bistro & Bar 金艮水可', 'lng': '121.439737', 'lat': '31.201761', 'address': '广元西路301号(宜山北路)'}, {'name': '嘉和Seven Bar', 'lng': '121.224393', 'lat': '31.038851', 'address': '文诚路378弄广场3层34号'}, {'name': 'The MAX Pub(福建中路店)', 'lng': '121.488332', 'lat': '31.239725', 'address': '福建中路180号(近福州路)'}, {'name': '静安香格里拉大酒店-大堂酒廊', 'lng': '121.456845', 'lat': '31.229167', 'address': '延安中路1218号静安香格里拉大酒店1层'}, {'name': '弹指之间Live House', 'lng': '121.441747', 'lat': '31.230634', 'address': '镇宁路525号新东纺大酒店1层'}, {'name': '永寿风情酒吧', 'lng': '121.488374', 'lat': '31.234092', 'address': '永寿路88号新黄浦酒店公寓1楼(近金陵东路)'}, {'name': '李香园', 'lng': '121.456675', 'lat': '31.216821', 'address': '上海徐汇区复兴中路1377号'}, {'name': 'CBC越野精酿啤酒俱乐部', 'lng': '121.377702', 'lat': '31.148863', 'address': '上海市闵行区新镇路288号'}, {'name': 'COCO.NO1', 'lng': '121.442957', 'lat': '31.243871', 'address': '胶州路941号长久大厦3楼'}, {'name': 'FLYDREAM女仆国际会馆', 'lng': '121.42095', 'lat': '31.198026', 'address': '长宁区宋园路58号领尚国际会馆20楼'}, {'name': 'ASL', 'lng': '121.457732', 'lat': '31.229653', 'address': '上海市静安区铜仁路88号2楼'}, {'name': '海獭酒吧', 'lng': '121.458202', 'lat': '31.214428', 'address': '岳阳路28号(近东平路)'}, {'name': 'YES TERDAY PUB', 'lng': '121.468867', 'lat': '31.22748', 'address': '长乐路352号'}, {'name': '好梦酒吧', 'lng': '121.495203', 'lat': '31.388642', 'address': '同济路311号3楼'}, {'name': 'RT Jazz Bar', 'lng': '121.392836', 'lat': '31.212586', 'address': '仙霞路691号2楼'}, {'name': '上海环球港凯悦酒店 大堂酒廊', 'lng': '121.419031', 'lat': '31.23811', 'address': '上海市普陀区宁夏路718号上海环球港凯悦酒店七楼'}, {'name': 'CRAFT BEER', 'lng': '121.516887', 'lat': '31.309836', 'address': '大学路127号'}, {'name': '淮海1号', 'lng': '121.482064', 'lat': '31.232904', 'address': '柳林路65号柳林大厦6楼(近香港广场)'}, {'name': 'Spicy girl酒吧', 'lng': '121.527489', 'lat': '31.247696', 'address': '昌邑路547号'}, {'name': '漫步者', 'lng': '121.474821', 'lat': '31.214351', 'address': '建国中路155弄38号(泰康路田子坊内)'}, {'name': 'Pino Jazz Club', 'lng': '121.438157', 'lat': '31.190842', 'address': '徐汇区文定路219号B1楼'}, {'name': 'Ladyrose玫瑰夫人酒吧(佳林路店)', 'lng': '121.613596', 'lat': '31.274757', 'address': '上海市浦东新区杨高北路佳林路84号'}, {'name': '西玛XIMA', 'lng': '121.452422', 'lat': '31.209801', 'address': '徐汇区衡山路703号(永嘉路口)'}, {'name': '洲海花园酒店-大堂酒吧', 'lng': '121.636455', 'lat': '31.326555', 'address': '洲海路2777号洲海花园酒店1层'}, {'name': '星座Constellation Wine', 'lng': '121.444169', 'lat': '31.20976', 'address': '天平路34号'}, {'name': 'AMBASSY CLUB', 'lng': '121.452733', 'lat': '31.215805', 'address': '上海市徐汇区淮海中路1500号近乌鲁木齐路'}, {'name': 'Blacksleep', 'lng': '121.47378', 'lat': '31.214715', 'address': '上海市黄浦区建国中路169号附近'}, {'name': 'Linx(淮海路店)', 'lng': '121.45594', 'lat': '31.218203', 'address': '淮海路1329号云海大厦3楼'}, {'name': '斑马餐厅酒吧', 'lng': '121.616104', 'lat': '31.184629', 'address': '上海市浦东新区荣科路277号2049翡翠公园F1'}, {'name': '夜店传奇CLUB S2', 'lng': '121.486508', 'lat': '31.230736', 'address': '上海市黄浦区淮海中路1号柳林大厦6层'}, {'name': 'vue bar(hyatt on the bund)', 'lng': '121.499791', 'lat': '31.251012', 'address': '上海市虹口区黄浦路199号外滩茂悦大酒店'}, {'name': 'WOMENS BOXING CLUB', 'lng': '121.477241', 'lat': '31.231569', 'address': '上海市黄浦区延安东路1312号'}, {'name': '云雅咖啡音乐吧', 'lng': '121.500312', 'lat': '31.140607', 'address': '上海市浦东新区三林路88弄1A111号'}, {'name': '酒花天堂', 'lng': '121.608185', 'lat': '31.212216', 'address': '上海市浦东新区金科路2889弄长泰广场F1'}, {'name': '上海五角场凯悦酒店大堂吧', 'lng': '121.52581', 'lat': '31.305963', 'address': '上海市杨浦区国定东路88号凯悦酒店L6层'}, {'name': 'The Shelter', 'lng': '121.450453', 'lat': '31.218045', 'address': '永福路5号（近复兴西路）'}, {'name': 'Reel To Reel卷对卷夜的店', 'lng': '121.48064', 'lat': '31.220442', 'address': '马当路388号SOHO复兴广场B1-01(靠近复兴中路)'}, {'name': '赢吧Bliss', 'lng': '121.486988', 'lat': '31.277118', 'address': '东江湾路444号虹口足球场2层平台1号'}, {'name': '好久不见酒吧', 'lng': '121.697623', 'lat': '31.201058', 'address': '川沙新镇海上凤凰主题酒店(浦东机场川沙1店)海上凤凰宾馆隔壁城西路283号'}, {'name': 'Seven Park(环城路店)', 'lng': '121.26238', 'lat': '31.013988', 'address': '上海市松江区松江环城路336号(家佳村隔壁)'}, {'name': '03 vip bar', 'lng': '121.353993', 'lat': '31.162132', 'address': '七莘路3033临星钻城4层'}, {'name': 'KUOKUO括括调酒体验馆DIY私人酒吧(外滩店)', 'lng': '121.496512', 'lat': '31.241113', 'address': '福州路17号203甲(沈括括直播工作室)'}, {'name': 'TOMMYBAR', 'lng': '121.242418', 'lat': '31.396537', 'address': '嘉行公路225弄17'}, {'name': '德国餐厅&奥地利音乐酒吧', 'lng': '121.165583', 'lat': '31.295387', 'address': '上海市嘉定区新源路55弄4号'}, {'name': 'Wolfgang Puck Bar & Grill', 'lng': '121.481431', 'lat': '31.226772', 'address': '上海市黄浦区太仓路181弄16号01a'}, {'name': '外滩三号', 'lng': '121.497227', 'lat': '31.239761', 'address': '中山东一路3号4-7楼(广东路17号)'}, {'name': '九重天酒吧', 'lng': '121.512418', 'lat': '31.240675', 'address': '上海浦东新区世纪大道88号金茂君悦大酒店87楼(近二号线陆家嘴站)'}, {'name': '巴黎春天新世界酒店-悠吧', 'lng': '121.427893', 'lat': '31.22466', 'address': '上海市长宁区定西路1555号上海巴黎春天新世界酒店1层'}, {'name': 'BANLAN BEER(七宝宝龙城店)', 'lng': '121.361785', 'lat': '31.164128', 'address': '上海市闵行区新镇路1399号七宝宝龙城市广场F1'}, {'name': '柒酒廊', 'lng': '121.528408', 'lat': '31.235122', 'address': '浦东新区张杨路777号锦江汤臣洲际大酒店1楼(近崂山路)'}, {'name': '艾欧薇女仆主题酒吧', 'lng': '121.448254', 'lat': '31.302922', 'address': '静安区江场西路299弄(中铁中环时代广场1号楼1层)'}, {'name': '古树酒吧咖吧', 'lng': '121.6137', 'lat': '31.275203', 'address': '上海浦东新区佳林路85号'}, {'name': 'CRU Wine gallery', 'lng': '121.464541', 'lat': '31.226884', 'address': '长乐路462号E102'}, {'name': '布朗石西班牙餐厅酒吧(富城店)', 'lng': '121.504835', 'lat': '31.241051', 'address': '上海市浦东新区富城路3号附近'}, {'name': '茉莉酒廊', 'lng': '121.495686', 'lat': '31.244639', 'address': '南京东路20号和平饭店1层(近中山东一路)'}, {'name': 'Hop Elysian', 'lng': '121.608156', 'lat': '31.212059', 'address': '金科路2889弄12号'}, {'name': '醉邦酒仓主题酒吧', 'lng': '121.270755', 'lat': '31.111557', 'address': '古楼公路416号(靠近横港路，临近金港花园、润江花苑)'}, {'name': 'BLUE MOON', 'lng': '121.457003', 'lat': '31.240442', 'address': '陕西北路688号104'}, {'name': '米罗', 'lng': '121.44046', 'lat': '31.20866', 'address': '法华镇路17号(淮海西路口)'}, {'name': '78 Bar', 'lng': '121.711422', 'lat': '31.202064', 'address': '川沙新镇中市街55号'}, {'name': 'WHATEVERCLUB酒吧', 'lng': '121.482642', 'lat': '31.348548', 'address': '上海市宝山区淞南镇郁江巷路188号'}, {'name': '隽木吧Dream Bar', 'lng': '121.523037', 'lat': '30.852481', 'address': '海湾镇奉炮公路450号常青大厦2F-228(上海应用技术学院东门)'}, {'name': '斯格威铂尔曼大酒店行政酒廊', 'lng': '121.477531', 'lat': '31.210262', 'address': '黄浦区打浦路15号斯格威铂尔曼大酒店38楼(打浦路南塘浜路)'}, {'name': '梧桐汇酒吧', 'lng': '121.321176', 'lat': '31.266369', 'address': '上海嘉定区金园四路258号近曹安公路'}, {'name': 'ZEBRA BAR', 'lng': '121.51244', 'lat': '31.224587', 'address': '上海市黄浦区中山南路505号老码头12号楼106/108'}, {'name': 'Hilda制服酒吧', 'lng': '121.396244', 'lat': '31.197636', 'address': '长宁区虹许路809号(近延安西路)'}, {'name': '如果爱', 'lng': '121.47479', 'lat': '31.25141', 'address': '天目中路355号一层'}, {'name': '伊哒呤Pizza(南泉路店)', 'lng': '121.52899', 'lat': '31.216618', 'address': '南泉路1287号'}, {'name': 'MRMONEY(大学店)', 'lng': '121.209251', 'lat': '31.055949', 'address': '文汇路818号二楼'}, {'name': 'Les', 'lng': '121.425226', 'lat': '31.214073', 'address': '上海市长宁区法华镇路901号2层(近延安西路)'}, {'name': '洛克Rock酒吧', 'lng': '121.711851', 'lat': '31.202218', 'address': '川沙新镇中市街47号'}, {'name': '700Beer(虹泉路店)', 'lng': '121.379717', 'lat': '31.174345', 'address': '虹泉路1101弄46号'}, {'name': 'Jam76 SPORTS BAR', 'lng': '121.592771', 'lat': '31.252503', 'address': '上海市浦东新区枣庄路963号枣庄路休闲街1层'}, {'name': '外滩全景酒吧', 'lng': '121.500066', 'lat': '31.250433', 'address': '虹口区黄浦路118号(外滩茂悦对面)'}, {'name': '香格里拉大堂酒廊', 'lng': '121.505932', 'lat': '31.24119', 'address': '浦东新区富城路33号香格里拉大酒店浦江楼1楼(近名商路)'}, {'name': '亚世都勾引酒吧', 'lng': '121.392005', 'lat': '31.182115', 'address': '吴中路1155号亚世都酒店1楼(近万源路)'}, {'name': '嘉里大酒店-大堂酒廊', 'lng': '121.570252', 'lat': '31.21944', 'address': '上海市浦东新区花木路1388号嘉里大酒店1楼(近芳甸路)'}, {'name': 'Aura大堂酒廊及爵士吧', 'lng': '121.507861', 'lat': '31.241971', 'address': '上海浦东陆家嘴世纪大道8号上海国金中心52层'}, {'name': '上海外高桥喜来登酒店大堂酒廊', 'lng': '121.594729', 'lat': '31.356762', 'address': '基隆路28号上海外高桥喜来登酒店1层'}, {'name': '外滩二十二号Bund22', 'lng': '121.500329', 'lat': '31.236287', 'address': '中山东二路22号115-116(新永安路口)'}, {'name': '悦隆酒店大堂吧', 'lng': '121.356434', 'lat': '31.138921', 'address': '中春路6699号上海悦隆酒店1楼'}, {'name': '洲际酒店大堂吧', 'lng': '121.308132', 'lat': '31.192', 'address': '诸光路1700号'}, {'name': '蜗牛在思考', 'lng': '121.52575', 'lat': '31.241978', 'address': '崂山路268号(乳山路与栖霞路之间)'}, {'name': 'V LIVE House', 'lng': '121.487265', 'lat': '31.231416', 'address': '淮海东路99号新尚数码广场4楼'}, {'name': '首善财富会大堂吧', 'lng': '121.568604', 'lat': '31.220767', 'address': '上海市浦东新区花木路1883弄96号1层'}, {'name': 'SOLOBAR', 'lng': '121.576796', 'lat': '31.123273', 'address': '周康路12号(靠近上南路)'}, {'name': '宝华万豪酒店-行政酒廊', 'lng': '121.452625', 'lat': '31.286088', 'address': '上海市静安区广中西路333号宝华万豪酒店23楼'}, {'name': 'Lamesa', 'lng': '121.301671', 'lat': '31.170502', 'address': '上海市青浦区徐泾镇高泾路622号(近上大房地产学院)'}, {'name': 'Prive Shanghai酒吧', 'lng': '121.497231', 'lat': '31.240484', 'address': '上海黄浦区中山东一路6号外滩六号4楼近广东路'}, {'name': '505酒吧', 'lng': '121.48738', 'lat': '31.241321', 'address': '南京东路505号(九江路福建中路口)'}, {'name': '新德里音乐餐厅酒吧', 'lng': '121.392284', 'lat': '31.196793', 'address': '上海市长宁区老外街5'}, {'name': 'happiness42', 'lng': '121.437579', 'lat': '31.210152', 'address': '上海市长宁区法华镇路135-7'}, {'name': '伊哒呤PIZZA(长宁路店)', 'lng': '121.433704', 'lat': '31.23055', 'address': '江苏路街道长宁路320号-2'}, {'name': 'ERA', 'lng': '121.469405', 'lat': '31.237427', 'address': '上海市静安区南京西路街道758号汇银大厦6楼'}, {'name': '600 club', 'lng': '121.464549', 'lat': '30.945675', 'address': '上海市奉贤区韩村路600号(近环城东路)'}, {'name': '弘基广场998酒吧', 'lng': '121.771517', 'lat': '31.061371', 'address': '上海浦东新区文益街85号'}, {'name': '时光酒屋', 'lng': '121.452064', 'lat': '31.218764', 'address': '上海市徐汇区五原路163'}, {'name': '原醇小站啤酒屋', 'lng': '121.388961', 'lat': '31.157372', 'address': '龙茗路1693号'}, {'name': '邂逅.T', 'lng': '121.335906', 'lat': '31.131545', 'address': '上海市松江区沪亭南路162号(松江民生村镇银行隔壁)'}, {'name': '上海金桥红枫万豪酒店-行政酒廊', 'lng': '121.597912', 'lat': '31.250143', 'address': '上海市浦东新区新金桥路15号上海金桥红枫万豪酒店21层'}, {'name': '红缇wineshop&lounge', 'lng': '121.451935', 'lat': '31.184943', 'address': '天钥桥路909号D1国际创意空间3号楼106室(中山南二路)'}, {'name': '时尚之夜酒吧网聚(衡山路店)', 'lng': '121.45501', 'lat': '31.213246', 'address': '上海市徐汇区衡山路41号'}, {'name': 'HOLYHIGH轻食', 'lng': '121.44178', 'lat': '31.232864', 'address': '上海市静安区武定西路1180附近'}, {'name': '户外烧烤联盟(月湖雕塑公园店)', 'lng': '121.220901', 'lat': '31.107628', 'address': '林荫新路1156号'}, {'name': '红苹果酒吧会所', 'lng': '121.702826', 'lat': '31.198701', 'address': '上海浦东新区新川路519(川沙路口)'}, {'name': '伊哒呤PIZZA(灵岩南路店)', 'lng': '121.506567', 'lat': '31.147933', 'address': '上海市浦东新区灵岩南路1087号1层'}, {'name': 'FABRIClub SHANGHAI', 'lng': '121.460769', 'lat': '31.227201', 'address': '上海市静安区襄阳北路1号2楼'}, {'name': '大盗归来音乐烤吧(田尚坊店)', 'lng': '121.425684', 'lat': '31.187109', 'address': '上海市徐汇区钦州北路226号田尚坊时尚生活中心B1'}, {'name': '伊哒呤PIZZA(民星路店)', 'lng': '121.545353', 'lat': '31.318256', 'address': '民星路378号'}, {'name': 'Talking BAR', 'lng': '121.762098', 'lat': '31.149385', 'address': '施镇路396弄1号'}, {'name': 'Burdigala Wine Bistrot', 'lng': '121.466766', 'lat': '31.212926', 'address': '徐汇区嘉善路301号2楼'}, {'name': 'Red fish Bar', 'lng': '121.169213', 'lat': '31.296194', 'address': '上海市嘉定区安亭镇墨玉路28号4楼(汽车站对面)'}, {'name': 'FIM LIVE HOUSE', 'lng': '121.445112', 'lat': '31.287825', 'address': '上海市静安区灵石路718号C8栋202'}, {'name': '引航酒吧', 'lng': '121.495598', 'lat': '31.247068', 'address': '上海市黄浦区中山东一路32号上海半岛酒店1层'}, {'name': 'HOUSETZ弹指之间音乐现场', 'lng': '121.505764', 'lat': '31.270748', 'address': '上海市虹口区瑞虹路320号'}, {'name': '2003culb酒吧', 'lng': '121.361307', 'lat': '31.165487', 'address': '上海市闵行区新龙路'}, {'name': '外滩浦华大酒店大堂吧', 'lng': '121.50932', 'lat': '31.25705', 'address': '高阳路168号上海外滩浦华大酒店1层'}, {'name': 'Miss Boss', 'lng': '121.480514', 'lat': '31.199176', 'address': '上海市黄浦区龙华东路810号绿地缤纷城F1'}, {'name': '8391CLUB', 'lng': '121.43174', 'lat': '31.192823', 'address': '古宜路150号'}, {'name': 'Taste Buds Cocktail Palace', 'lng': '121.446077', 'lat': '31.213481', 'address': '上海市徐汇区武康路332号'}, {'name': '弹指之间', 'lng': '121.445259', 'lat': '31.28766', 'address': '上海市静安区灵石路730号东南90米'}, {'name': '江南风格酒吧', 'lng': '121.379498', 'lat': '31.174326', 'address': '虹泉路50号'}, {'name': '烈焰音乐烤吧', 'lng': '121.529711', 'lat': '31.07624', 'address': '上海市闵行区浦江镇竹园路118号'}, {'name': 'XYZ BAR', 'lng': '121.472408', 'lat': '31.231786', 'address': '上海市静安区大沽路388附近'}, {'name': '旮旯酒吧', 'lng': '121.496806', 'lat': '31.260174', 'address': '溧阳路649号(1933老场坊西侧200米)'}, {'name': '狂奔的蜗牛(赤峰路店)', 'lng': '121.507485', 'lat': '31.284626', 'address': '上海市杨浦区赤峰路63号31号楼1层03室'}, {'name': 'TheHoyHoy', 'lng': '121.467021', 'lat': '31.230881', 'address': '上海市静安区茂名北路65-5'}, {'name': '99会馆酒吧', 'lng': '121.241657', 'lat': '31.012188', 'address': '中山中路83号上海松江假日酒店5层'}, {'name': '十字路', 'lng': '121.276762', 'lat': '31.171381', 'address': '上海市青浦区沪青平公路2000号虹桥西郊假日酒店竞衡大厦1楼'}, {'name': 'The Square', 'lng': '121.531191', 'lat': '31.245298', 'address': '浦东新区浦东大道728号海神诺富特大酒店2楼(近福山路)'}, {'name': '时尚之夜酒吧网聚(黄埔2号店)', 'lng': '121.486273', 'lat': '31.231655', 'address': '淮海路8号兰生大厦7楼'}, {'name': '卡纳酒吧', 'lng': '121.376213', 'lat': '31.188174', 'address': '虹井路588'}, {'name': '冰火时光', 'lng': '121.452173', 'lat': '31.343615', 'address': '上海市宝山区通河路531号红太阳商业广场F3'}, {'name': '吉臣酒店 宴会厅', 'lng': '121.436263', 'lat': '31.234143', 'address': '上海静安区万航渡路818号吉臣酒店8楼近康定路'}, {'name': 'MOON CAFE BAR', 'lng': '121.443742', 'lat': '31.210478', 'address': '上海市长宁区淮海中路1950弄-4号附近'}, {'name': '绿地铂骊酒店-行政酒廊', 'lng': '121.70601', 'lat': '31.190669', 'address': '川沙路5500号浦东绿地铂骊酒店18层'}, {'name': '精酿鲜啤', 'lng': '121.399216', 'lat': '31.105149', 'address': '都市路4549号'}, {'name': 'TIME ZIPPING HOUSE TZ', 'lng': '121.445443', 'lat': '31.287467', 'address': '上海市静安区灵石路702西90米'}, {'name': '酒爐啤酒屋', 'lng': '121.753907', 'lat': '31.059316', 'address': '浦东惠南镇拱极路3898号'}, {'name': '丽晶大堂酒廊', 'lng': '121.436927', 'lat': '31.217594', 'address': '延安西路1116号上海龙之梦大酒店1楼'}, {'name': 'Q house音乐之家(唐镇店)', 'lng': '121.653051', 'lat': '31.220555', 'address': '春泉路27号'}, {'name': '绯闻酒吧(总部)', 'lng': '121.313465', 'lat': '31.067495', 'address': '卖新公路2058号亚繁财富广场1层'}, {'name': 'InBar', 'lng': '121.461273', 'lat': '31.225638', 'address': '襄阳北路97号'}, {'name': '思酷巴潜水主题酒吧', 'lng': '121.472509', 'lat': '31.22916', 'address': '上海市黄浦区巨鹿路158号大同坊5148室(近成都南路)'}, {'name': '福庐', 'lng': '121.451621', 'lat': '31.209607', 'address': '衡山路298-2号'}, {'name': '汇吧', 'lng': '121.514237', 'lat': '31.249266', 'address': '浦东南路111号文华东方酒店1层'}, {'name': '宏泉丽笙酒店-红酒廊', 'lng': '121.404235', 'lat': '31.26669', 'address': '普陀区桃浦路210号宏泉丽笙酒店27楼(近大渡河路)'}, {'name': 'THE GREEN DRAGON', 'lng': '121.437681', 'lat': '31.209589', 'address': '上海市长宁区法华镇路135-2号'}, {'name': 'Le Petit Bordelais(布迪格乐葡萄酒吧)', 'lng': '121.436412', 'lat': '31.208971', 'address': '上海市长宁区新华路160号'}, {'name': 'Listen Live House(118广场店)', 'lng': '121.38451', 'lat': '31.237926', 'address': '普陀区金沙江路1685号'}, {'name': '夜魅酒吧(闸北店)', 'lng': '121.453123', 'lat': '31.269966', 'address': '上海市静安区沪太路701号附近'}, {'name': '七宝潮人夜店(旗舰店)', 'lng': '121.368706', 'lat': '31.140875', 'address': '七莘路华中路路口财富108广场'}, {'name': '上海波特曼丽思卡尔顿酒店丽嘉阁', 'lng': '121.458203', 'lat': '31.233421', 'address': '南京西路1376号上海波特曼丽思卡尔顿酒店1层'}, {'name': \"Perry's\", 'lng': '121.519619', 'lat': '31.307929', 'address': '上海市杨浦区淞沪路77号钻石小鸟F5'}, {'name': '101Bar', 'lng': '121.697713', 'lat': '31.201124', 'address': '上海浦东新区城西路275号'}, {'name': 'IA Lab(外滩8号店)', 'lng': '121.498756', 'lat': '31.238292', 'address': '上海市黄浦区中山东二路外滩8号金延大楼1F102室'}, {'name': 'TRAFIGURA', 'lng': '121.508076', 'lat': '31.242093', 'address': '上海市浦东新区陆家嘴环路97号东80米'}, {'name': 'M1X PARTY SPACE', 'lng': '121.540348', 'lat': '31.276565', 'address': '上海市杨浦区长阳路'}, {'name': 'bird', 'lng': '121.455572', 'lat': '31.22021', 'address': '上海市徐汇区五原路50弄-2-10号'}, {'name': '787梦酒吧', 'lng': '121.79339', 'lat': '31.18508', 'address': '江镇路1909号航空酒店1楼(近浦东机场)'}, {'name': 'SALMOS', 'lng': '121.450026', 'lat': '31.228411', 'address': '南京西路1818号1788广场6楼之3号'}, {'name': 'the 2nd floor', 'lng': '121.474683', 'lat': '31.214695', 'address': '建国中路155弄30号二楼'}, {'name': 'Emptiness', 'lng': '121.479695', 'lat': '31.223101', 'address': '上海市黄浦区淡水路228号'}, {'name': 'Le Souhait', 'lng': '121.454856', 'lat': '31.23224', 'address': '南京西路1486号1幢1楼34号铺位'}, {'name': '大堂酒廊', 'lng': '121.4414', 'lat': '31.216874', 'address': '上海市长宁区兴国路78号兴国宾馆4楼近华山路'}, {'name': '卓美亚喜玛拉雅酒店-行政酒廊', 'lng': '121.568056', 'lat': '31.216246', 'address': '梅花路1108号卓美亚喜玛拉雅酒店21层'}, {'name': 'G CLUB', 'lng': '121.453849', 'lat': '31.210579', 'address': '徐汇区永嘉路698号2F'}, {'name': 'Hongdae Bear', 'lng': '121.480734', 'lat': '31.224177', 'address': '上海市黄浦区自忠路388-、390号'}, {'name': 'CLUB LIMP', 'lng': '121.436751', 'lat': '31.214865', 'address': '上海市长宁区平武路38-7号'}, {'name': '大众空港宾馆-空中酒吧', 'lng': '121.812371', 'lat': '31.156974', 'address': '迎宾大道6001号大众空港宾馆北楼8层'}, {'name': '上海西郊假日酒店-大堂吧', 'lng': '121.27756', 'lat': '31.17139', 'address': '沪青平公路2000号西郊假日酒店内'}, {'name': '铭人吧(西藏北路店)', 'lng': '121.476569', 'lat': '31.257061', 'address': '西藏北路558号上海铭德大酒店2楼'}, {'name': 'molex', 'lng': '121.627541', 'lat': '31.316325', 'address': '外高桥保税区英伦路889号'}, {'name': '淳大万丽酒店大堂酒吧', 'lng': '121.559055', 'lat': '31.230138', 'address': '浦东新区长柳路100号淳大万丽酒店1楼(近迎春路)'}, {'name': '伊哒呤PIZZA(医学院路店)', 'lng': '121.466193', 'lat': '31.206432', 'address': '医学院路22号'}, {'name': '伊哒呤PIZZA(航花店)', 'lng': '121.356076', 'lat': '31.177128', 'address': '上海市闵行区航北路580号'}, {'name': 'VALENTINE', 'lng': '121.450952', 'lat': '31.246417', 'address': '上海市静安区陕西北路1163'}, {'name': '上海中星君亭酒店-酒吧', 'lng': '121.491214', 'lat': '31.233303', 'address': '人民路839号上海中星君亭酒店4层'}, {'name': '龙之梦万丽酒店-复式行政酒廊', 'lng': '121.423602', 'lat': '31.224977', 'address': '上海市长宁区长宁路1018号上海龙之梦万丽酒店58～59层'}, {'name': 'SHANGHAI CLUB', 'lng': '121.469814', 'lat': '31.234556', 'address': '上海市静安区南京西路789号兴业太古汇F4'}, {'name': '源吧', 'lng': '121.557804', 'lat': '31.229813', 'address': '上海市浦东新区民生路1433号世纪皇冠假日酒店1楼(民生路迎春路)'}, {'name': 'ANOTHER9', 'lng': '121.450431', 'lat': '31.242495', 'address': '上海市静安区余姚路27号'}, {'name': '上海世茂皇家艾美酒店-酒吧', 'lng': '121.482719', 'lat': '31.240351', 'address': '南京东路789号'}, {'name': 'Misq R', 'lng': '121.452369', 'lat': '31.22207', 'address': '上海市静安区长乐路928号附近'}, {'name': 'isles', 'lng': '121.486491', 'lat': '31.231188', 'address': '上海市黄浦区淮海中路23号附近'}, {'name': 'Vinism bar', 'lng': '121.442173', 'lat': '31.224643', 'address': '上海市长宁区东诸安浜路57-1临'}, {'name': '上海日航饭店-大堂酒廊', 'lng': '121.443703', 'lat': '31.223924', 'address': '延安西路488号上海日航饭店1层'}, {'name': '咏萄', 'lng': '121.344789', 'lat': '31.169466', 'address': '上海市闵行区沪星路289弄28号顺恒国际商业广场F1'}, {'name': 'LiveLover酒妆', 'lng': '121.515893', 'lat': '31.308697', 'address': '政民路198号'}, {'name': '美基娱乐', 'lng': '121.495454', 'lat': '31.282062', 'address': '上海市虹口区大连西路251号'}, {'name': '灵怡酒吧', 'lng': '121.511871', 'lat': '31.295003', 'address': '上海杨浦区国权后路11-1号(国权后路政熙路)'}, {'name': '随心订(光明社区店)', 'lng': '121.127523', 'lat': '31.159642', 'address': '浦仓路663号'}, {'name': '上海浦东机场华美达大酒店-行政酒廊', 'lng': '121.80585', 'lat': '31.166811', 'address': '启航路1100号浦东机场'}, {'name': '好时光', 'lng': '121.454619', 'lat': '31.224783', 'address': '静安区巨鹿路876号(近常熟路)'}, {'name': '上海兴荣温德姆酒店-行政酒廊', 'lng': '121.545537', 'lat': '31.266168', 'address': '上海市杨浦区宁国路25号上海兴荣温德姆酒店32层'}, {'name': '雅居乐万豪行政酒廊', 'lng': '121.480211', 'lat': '31.242442', 'address': '西藏中路555号上海雅居乐万豪酒店37层'}, {'name': 'cotton pan', 'lng': '121.430362', 'lat': '31.225089', 'address': '上海市长宁区愚园路1322号'}, {'name': 'Craft', 'lng': '121.460755', 'lat': '31.222207', 'address': '东湖路7号东湖宾馆2楼'}, {'name': 'Street Cafe', 'lng': '121.42788', 'lat': '31.164742', 'address': '上海市徐汇区钦州南路559号'}, {'name': 'LA MODA·LOUNGE', 'lng': '121.454617', 'lat': '31.224582', 'address': '上海市静安区巨鹿路895号'}, {'name': '半寸日光', 'lng': '121.458612', 'lat': '31.24104', 'address': '上海市静安区江宁路445号105室'}, {'name': '灵动吧', 'lng': '121.452256', 'lat': '31.211592', 'address': '衡山路12号豪华精选酒店1层'}, {'name': '我的咖啡客厅', 'lng': '121.383945', 'lat': '31.210757', 'address': '新泾镇虹古路635号'}, {'name': '证大丽笙酒店-大堂酒廊', 'lng': '121.566945', 'lat': '31.232689', 'address': '迎春路1199号上海证大丽笙酒店1层'}, {'name': 'Tian Di', 'lng': '121.497205', 'lat': '31.240613', 'address': '中山东一路6外滩6号3层'}, {'name': 'Lola', 'lng': '121.458279', 'lat': '31.213723', 'address': '岳阳路46号(靠近东平路)(教育会堂酒店)'}, {'name': '狂奔的蜗牛(新大陆店)', 'lng': '121.52566', 'lat': '31.234227', 'address': '中国(上海)自由贸易试验区张杨路601号2层C-1-1室'}, {'name': 'Vini Bar', 'lng': '121.400746', 'lat': '31.211682', 'address': '上海长宁区仙霞路427号(近古北路)'}, {'name': 'The Lounge', 'lng': '121.523574', 'lat': '31.215307', 'address': '浦东南路2111号福朋喜来登由由酒店1楼(近浦建路)'}, {'name': '萨帕塔上海', 'lng': '121.455702', 'lat': '31.214472', 'address': '上海市徐汇区衡山路5号'}, {'name': '中星铂尔曼酒店-行政酒廊', 'lng': '121.436193', 'lat': '31.16577', 'address': '浦北路1号上海中星铂尔曼大酒店26层'}, {'name': 'QUARTIER GENERAL', 'lng': '121.443606', 'lat': '31.236574', 'address': '上海市静安区康定路1035'}, {'name': 'Saga Milu', 'lng': '121.434609', 'lat': '31.229782', 'address': '上海市长宁区江苏路62弄弄里18号'}, {'name': '蓝蚂酒吧', 'lng': '121.513987', 'lat': '31.287127', 'address': '上海市杨浦区四平路1388号同济联合广场F2'}, {'name': '宝隆美爵蓝逸雪茄吧', 'lng': '121.494253', 'lat': '31.302438', 'address': '上海市虹口区逸仙路180号上海宝隆美爵酒店2层'}, {'name': 'BIERGARTEN', 'lng': '121.480913', 'lat': '31.226317', 'address': '上海市黄浦区马当路159附近'}, {'name': 'LC CLUB', 'lng': '121.478459', 'lat': '31.215775', 'address': '重庆南路308号3楼'}, {'name': '1234bar', 'lng': '121.439961', 'lat': '31.231862', 'address': '上海市静安区武定西路1234'}, {'name': 'WINO', 'lng': '121.459318', 'lat': '31.223906', 'address': '富民路291号悟锦世纪大厦1楼B4'}, {'name': '海吧(新城路店)', 'lng': '121.350076', 'lat': '30.714279', 'address': '石化新城路69号1层'}, {'name': 'Bar 777', 'lng': '121.398703', 'lat': '31.219093', 'address': '天山路471-2'}, {'name': '杰克丹尼威士忌', 'lng': '121.424742', 'lat': '31.200444', 'address': '上海长宁区中山西路1243号三湘大厦3楼'}, {'name': 'MEAT BAR BARUMICHI', 'lng': '121.417443', 'lat': '31.197252', 'address': '古羊路449号一楼'}, {'name': '邻里酒屋', 'lng': '121.464885', 'lat': '31.217432', 'address': '永康路40号'}, {'name': 'CAFE&BAR', 'lng': '121.452006', 'lat': '31.230608', 'address': '上海市静安区南京西路1618号久光百货F2'}, {'name': 'Heineken', 'lng': '121.452632', 'lat': '31.20984', 'address': '上海市徐汇区永嘉路699-2号附近'}, {'name': 'TAPAS', 'lng': '121.43408', 'lat': '31.190228', 'address': '田林街道宜山路439号401室'}, {'name': '新词大酒店-大堂吧', 'lng': '121.170609', 'lat': '31.295723', 'address': '墨玉路29号新词大酒店1楼'}, {'name': '锦雪苑-大堂吧', 'lng': '121.539392', 'lat': '31.310762', 'address': '翔殷路631号锦雪苑1层'}, {'name': '798沙龙', 'lng': '121.458166', 'lat': '31.332359', 'address': '二八纪念路712号'}, {'name': 'KAN居酒BAR', 'lng': '121.426249', 'lat': '31.206845', 'address': '凯旋路1402号-03号'}, {'name': '海神诺富特大酒店-大堂吧', 'lng': '121.531293', 'lat': '31.245204', 'address': '浦东大道728号上海海神诺富特大酒店1层'}, {'name': '梦缘酒吧', 'lng': '121.431497', 'lat': '31.427664', 'address': '月浦镇月罗路120号'}, {'name': 'brew精酿啤酒超市', 'lng': '121.466594', 'lat': '31.210638', 'address': '建国西路283号1层1109'}, {'name': 'UP餐Bar', 'lng': '121.446832', 'lat': '31.23124', 'address': '静安寺街道乌鲁木齐北路16号'}, {'name': '修修丢丢', 'lng': '121.451957', 'lat': '31.343469', 'address': '上海市宝山区通河路561号红太阳商业广场B1'}, {'name': 'constellation bar no.4', 'lng': '121.480083', 'lat': '31.224217', 'address': '上海市黄浦区自忠路402号'}, {'name': 'RICH GATE', 'lng': '121.480783', 'lat': '31.224859', 'address': '马当路222弄1-6号1地下一层105单元(华府天地)靠近兴业路号105'}, {'name': '蓝伯特酒品', 'lng': '121.391856', 'lat': '31.149118', 'address': '龙茗路1300弄古美生活购物广场2楼'}, {'name': '春之韵酒吧', 'lng': '121.479161', 'lat': '31.203939', 'address': '打浦路437号3层'}, {'name': '2046酒吧(海湾路)', 'lng': '121.509521', 'lat': '30.845459', 'address': '海湾旅游区海湾路1551号(海湾路与奉柘公路路口，华理北300米)'}, {'name': 'BOLT CLUB桌球俱乐部', 'lng': '121.450686', 'lat': '31.242971', 'address': '西康路757号5楼'}, {'name': '丘吉尔雪茄吧', 'lng': '121.50932', 'lat': '31.25705', 'address': '高阳路168号上海外滩浦华大酒店2层'}, {'name': '首席公馆-大堂酒廊', 'lng': '121.461681', 'lat': '31.224178', 'address': '上海市徐汇区新乐路82号首席公馆酒店1层'}, {'name': '行政酒廊', 'lng': '121.587794', 'lat': '31.14092', 'address': '上海市浦东新区秀沿路1088号上海浦东盛高假日酒店21层'}, {'name': 'Deep Club', 'lng': '121.451946', 'lat': '31.226851', 'address': '华山路189号静安公园内(延安西路延安中路)'}, {'name': '9号公馆', 'lng': '121.52415', 'lat': '31.22863', 'address': '上海市浦东新区潍坊西路140号'}, {'name': '故事大王', 'lng': '121.427681', 'lat': '31.214995', 'address': '上海市长宁区延安西路1538号10楼'}, {'name': '筑山', 'lng': '121.426254', 'lat': '31.20689', 'address': '凯旋路1415号108室'}, {'name': 'TIME ZIPPING HOUSE', 'lng': '121.505785', 'lat': '31.270688', 'address': '上海市虹口区瑞虹路188号瑞虹天地月亮湾F3'}, {'name': '上海中信泰富朱家角锦江酒店-行政酒廊', 'lng': '121.056337', 'lat': '31.12692', 'address': '珠湖路666号'}, {'name': '忘了吧酒吧', 'lng': '121.663579', 'lat': '31.269332', 'address': '顾唐路150号'}, {'name': 'PMS Bar(甜品咖啡)', 'lng': '121.69995', 'lat': '31.189449', 'address': '妙镜路1111弄53号恒越生活广场内'}, {'name': 'PLAZA BAR', 'lng': '121.596633', 'lat': '31.345195', 'address': '杨高北路1000号上海外高桥皇冠假日酒店1层'}, {'name': '上海宝隆美爵酒店-贵宾行政酒廊', 'lng': '121.494207', 'lat': '31.302425', 'address': '逸仙路180号上海宝隆美爵酒店10层'}, {'name': 'ELEGANCE', 'lng': '121.407364', 'lat': '31.21528', 'address': '上海市长宁区古北路501号附近'}, {'name': '上海龙之梦大酒店-大堂吧', 'lng': '121.436927', 'lat': '31.217594', 'address': '上海市长宁区延安西路1116号上海龙之梦大酒店1楼'}, {'name': '上海君汇国旅活动营地', 'lng': '121.221716', 'lat': '31.160437', 'address': '垂姚支路28'}, {'name': 'a.muse爱巢缪斯(松江九亭店)', 'lng': '121.323916', 'lat': '31.151869', 'address': '九亭镇沪亭北路350弄贝尚湾生活广场2楼(原潮人88酒吧)'}, {'name': '洲际俱乐部酒廊', 'lng': '121.52794', 'lat': '31.235375', 'address': '张杨路777号上海锦江汤臣洲际大酒店24层'}, {'name': '临港豪生国际酒店-行政酒廊', 'lng': '121.826091', 'lat': '30.878043', 'address': '上海市浦东新区新元南路555号临港豪生国际酒店2号楼6楼近江山路'}, {'name': 'MAO FU HUI CLUB', 'lng': '121.492203', 'lat': '31.270706', 'address': '上海市虹口区山阴路69弄43'}, {'name': 'LEVINBAKING', 'lng': '121.674205', 'lat': '31.215519', 'address': '顾唐路6号附近'}, {'name': '佘山59', 'lng': '121.198199', 'lat': '31.097807', 'address': '佘山度假区环山路259号'}, {'name': '丰巢自提柜', 'lng': '121.430621', 'lat': '31.179261', 'address': '田林东路田林十三村37号楼门口'}, {'name': '红酒', 'lng': '121.463565', 'lat': '31.128627', 'address': '上海市徐汇区龙吴路2388弄-73号-3楼-304'}, {'name': 'YK CLUB酒吧', 'lng': '121.206952', 'lat': '31.031211', 'address': '思贤路1855弄7号'}, {'name': 'CHICKENGEGG', 'lng': '121.458773', 'lat': '31.223456', 'address': '富民路与延庆路交叉口西南50米'}, {'name': '顺利建机', 'lng': '121.233996', 'lat': '31.321682', 'address': '方德路100弄58号'}, {'name': 'THE SECOND(光复西路店)', 'lng': '121.390651', 'lat': '31.227106', 'address': '上海市普陀区光复西路2899弄C栋1楼'}, {'name': 'Room23', 'lng': '121.469942', 'lat': '31.227808', 'address': '瑞金一路121弄23号(近长乐路)'}, {'name': '元一 希尔顿 大堂吧', 'lng': '121.401162', 'lat': '31.193863', 'address': '红松路1166号2号楼1楼'}, {'name': 'Snack Bar', 'lng': '121.43737', 'lat': '31.282085', 'address': '静安区灵石路930号地质局附近(近沪太路)'}, {'name': 'juice bar', 'lng': '121.492095', 'lat': '31.244062', 'address': '上海市黄浦区河南中路新世界大丸百货B2层'}, {'name': '深井俱乐部', 'lng': '121.177649', 'lat': '30.89532', 'address': '朱泾镇众安街435号'}, {'name': 'edm-dj俱乐部', 'lng': '121.484081', 'lat': '31.218955', 'address': '黄陂南路751号卓维多媒体创意园4号楼3楼(复兴中路口)'}, {'name': '12码足球清吧', 'lng': '121.157258', 'lat': '31.313919', 'address': '新源路1315号'}, {'name': 'Miss Beer', 'lng': '121.480428', 'lat': '31.199163', 'address': '龙华东路810号海外滩·名品汇F1'}, {'name': '阿玛尼', 'lng': '121.48619', 'lat': '31.231881', 'address': '淮海中路8号(柳林路)'}, {'name': '上海南翔假日酒店-行政酒廊', 'lng': '121.326647', 'lat': '31.296069', 'address': '上海市嘉定区槎溪路789号上海南翔假日酒店18层'}, {'name': '上海中油阳光大酒店-大堂吧', 'lng': '121.535259', 'lat': '31.228404', 'address': '上海市浦东新区东方路969号上海中油阳光大酒店1层'}, {'name': '大堂酒廊', 'lng': '121.503221', 'lat': '31.233506', 'address': '上海市黄浦区中山东二路538号上海万达瑞华酒店1层'}, {'name': '粤海酒店-行政酒廊', 'lng': '121.492934', 'lat': '31.305371', 'address': '逸仙路328号粤海酒店22层'}, {'name': '裕景大饭店-雪茄吧', 'lng': '121.52583', 'lat': '31.246765', 'address': '浦东大道535号裕景大饭店4楼'}, {'name': '壹雪壹国际(娱乐酒吧店)', 'lng': '121.524606', 'lat': '31.234983', 'address': '南泉北路528号新大陆广场3F(商城路)'}, {'name': '朋友的店', 'lng': '121.732117', 'lat': '31.239969', 'address': '上海市浦东新区合庆维也纳酒店(浦东机场和庆店)西50米'}, {'name': 'yueclub', 'lng': '121.528311', 'lat': '31.247645', 'address': '滨江茗园昌邑路559号'}, {'name': '1939号', 'lng': '121.443702', 'lat': '31.263297', 'address': '交通路1943号附近'}, {'name': 'cafe bar', 'lng': '121.449634', 'lat': '31.236771', 'address': '上海市静安区武宁南路107号'}, {'name': '宝御酒店-大堂吧', 'lng': '121.495819', 'lat': '31.254736', 'address': '吴淞路299号宝御酒店1层'}, {'name': '航华三村233号', 'lng': '121.355665', 'lat': '31.171389', 'address': '航华三村233号楼'}, {'name': '嘉里阁贵宾廊', 'lng': '121.569793', 'lat': '31.219348', 'address': '上海市浦东新区花木路1388号上海浦东嘉里大酒店行政楼3楼'}, {'name': 'Party Box 别墅派对', 'lng': '121.188452', 'lat': '31.034083', 'address': '上海市松江区文诚路名仕豪庭PartyBox别墅派对'}, {'name': 'VAPESHOP', 'lng': '121.391918', 'lat': '31.196924', 'address': '上海市长宁区虹梅路3338弄-1-临'}, {'name': '尚·酒廊', 'lng': '121.320731', 'lat': '31.180924', 'address': '沪清平公路1358号上海虹桥凯莱逸郡酒店1层'}, {'name': '宾龙商务酒店-大堂吧', 'lng': '121.494884', 'lat': '31.240398', 'address': '福州路105-1号宾龙商务酒店1层'}, {'name': '上海指南针旅行俱乐部', 'lng': '121.432698', 'lat': '31.218136', 'address': '上海市长宁区昭化路110号405室'}, {'name': '华岸吧TCCP BAR', 'lng': '121.617545', 'lat': '31.260471', 'address': '上海市浦东新区金港路318附近'}, {'name': '喵喵客', 'lng': '121.635144', 'lat': '31.216304', 'address': '上海市浦东新区祖冲之路2290号展想广场'}, {'name': '大华虹桥假日酒店-行政酒廊', 'lng': '121.349268', 'lat': '31.168348', 'address': '七莘路3555号上海大华虹桥假日酒店8层'}, {'name': '上海瀛通大酒店-大堂吧', 'lng': '121.403832', 'lat': '31.632841', 'address': '北门路190号上海瀛通大酒店1层'}, {'name': '裕景大堂酒廊', 'lng': '121.526862', 'lat': '31.246787', 'address': '浦东大道535号裕景大饭店1层'}, {'name': 'Tiger NEW YORK BAR', 'lng': '121.452945', 'lat': '31.22551', 'address': '上海市静安区华山路291号附近'}, {'name': '修修丢丢', 'lng': '121.451957', 'lat': '31.343469', 'address': '上海市宝山区通河路561号红太阳商业广场B1'}, {'name': '约吧flower juice bar', 'lng': '121.240828', 'lat': '31.008902', 'address': '松汇中路568弄鹿都国际广场4楼'}, {'name': '横浜1699餐厅酒吧', 'lng': '121.489281', 'lat': '31.263957', 'address': '上海虹口区四川北路1699号2F近海伦西路巴黎春天对面'}, {'name': 'Rickyo', 'lng': '121.537806', 'lat': '31.246838', 'address': '上海市浦东新区浦东大道968号'}, {'name': 'ROUTE66', 'lng': '121.470322', 'lat': '31.227604', 'address': '上海市黄浦区长乐路314号'}, {'name': '简餐咖啡音乐吧', 'lng': '121.45018', 'lat': '31.24397', 'address': '西康路423号附近'}, {'name': '丰巢自提柜', 'lng': '121.430359', 'lat': '31.245648', 'address': '地方天园8号楼1楼底'}, {'name': 'su shi bar', 'lng': '121.423155', 'lat': '31.225208', 'address': '上海市长宁区长宁路1018号龙之梦购物中心(长宁店)B2层'}, {'name': '户外烧烤联盟(大宁灵石公园店)', 'lng': '121.450604', 'lat': '31.282412', 'address': '广中西路'}, {'name': 'XX', 'lng': '121.448032', 'lat': '31.201272', 'address': '肇嘉浜路1033号'}, {'name': '逸天廊', 'lng': '121.805934', 'lat': '31.166899', 'address': '上海市浦东新区浦东机场启航路1100号1层'}, {'name': '伦敦广场-红酒吧', 'lng': '121.404124', 'lat': '31.203038', 'address': '古北路1000号伦敦广场1层'}, {'name': 'colour 酒吧', 'lng': '121.446105', 'lat': '31.239879', 'address': '昌平路888-1号(近胶州路)'}, {'name': 'NEW SPACE', 'lng': '121.532451', 'lat': '31.217788', 'address': '上海市浦东新区蓝村路461-2临'}, {'name': '锦荣国际大酒店-行政酒廊', 'lng': '121.457182', 'lat': '31.289982', 'address': '上海市静安区共和新路2750号锦荣国际大酒店16层'}, {'name': 'BEER', 'lng': '121.615479', 'lat': '31.2829', 'address': '乐园路63号附近'}, {'name': '亿啧', 'lng': '121.446603', 'lat': '31.236224', 'address': '延平路159号'}, {'name': 'TheMoon', 'lng': '121.470577', 'lat': '31.22761', 'address': '上海市黄浦区长乐路298号'}, {'name': 'GERMAN RESTAURANT', 'lng': '121.521561', 'lat': '31.232914', 'address': '上海市浦东新区浦东南路1138号上海湾F1'}, {'name': 'young club', 'lng': '121.449906', 'lat': '31.242553', 'address': '余姚路55-1A铺'}, {'name': 'Ovoo Pub', 'lng': '121.523995', 'lat': '31.228681', 'address': '潍坊西路140号(浦东南路)'}, {'name': '遗忘小屋', 'lng': '121.413927', 'lat': '31.237355', 'address': '上海市普陀区金沙江路95号'}, {'name': '香槟吧', 'lng': '121.510914', 'lat': '31.247873', 'address': '陆家嘴环路1288号上海凯宾斯基大酒店2层'}, {'name': '谈情说爱音乐现场', 'lng': '121.492031', 'lat': '31.233641', 'address': '上海市黄浦区人民路765-临附近'}, {'name': '色界', 'lng': '121.584237', 'lat': '31.264042', 'address': '上海浦东新区张杨路3611号金桥国际商业广场B1层'}, {'name': '华颐康泰', 'lng': '121.440263', 'lat': '31.221635', 'address': '上海市长宁区延安西路728号7楼I室'}, {'name': 'HOUSE 107', 'lng': '121.476315', 'lat': '31.224828', 'address': '雁荡107雁荡10楼D座(雁荡口)'}, {'name': '上海豫园万丽酒店-行政酒廊', 'lng': '121.494575', 'lat': '31.23321', 'address': '黄浦区河南南路159号豫园万丽酒店17楼(近福佑路)'}, {'name': '杰盛俱乐部', 'lng': '121.473012', 'lat': '31.303069', 'address': '车站北路709号(近广粤路)'}, {'name': 'Bar Constellation', 'lng': '121.461573', 'lat': '31.223949', 'address': '上海市徐汇区新乐路75号'}, {'name': '广场长城假日酒店行政酒廊', 'lng': '121.459957', 'lat': '31.253205', 'address': '静安区恒丰路585号'}, {'name': '鑫开源娱乐管理有限公司', 'lng': '121.514999', 'lat': '31.148076', 'address': '浦东新区三林路839号'}, {'name': '龍堂餐饮(义学路店)', 'lng': '121.446335', 'lat': '31.382236', 'address': '杨泰路义学桥35号(永盛旅馆旁)'}, {'name': '芙瓴敦酒吧', 'lng': '121.595883', 'lat': '31.344876', 'address': '浦东新区高桥镇夏碧路306号2楼'}, {'name': '上海红树叶啤酒屋', 'lng': '121.533697', 'lat': '31.229974', 'address': '上海市浦东新区东方路902号附近'}, {'name': 'CAS酒吧', 'lng': '121.448751', 'lat': '31.236224', 'address': '武定路1089号'}, {'name': '大堂丰巢柜', 'lng': '121.620723', 'lat': '31.261407', 'address': '金桥经济技术开发区金豫路禹洲金桥国际2期2号楼'}, {'name': '上海虹口三至喜来登酒店-行政酒廊', 'lng': '121.494336', 'lat': '31.263568', 'address': '四平路59号上海虹口三至喜来登酒店37层'}, {'name': '牛阿哥ART面廊餐吧', 'lng': '121.466787', 'lat': '31.231405', 'address': '上海市静安区茂名北路75弄4号街面(近威海路与延安路中间)地铁12号线、2号线、13号线'}, {'name': '虹梅嘉延酒店-活力酒廊', 'lng': '121.398529', 'lat': '31.186821', 'address': '虹梅路2975号'}, {'name': '舒relax bar', 'lng': '121.487221', 'lat': '31.415331', 'address': '牡丹江路1813号宝钢集团宝山宾馆1楼'}, {'name': 'Neruton (Party Box) Club', 'lng': '121.40624', 'lat': '31.212018', 'address': '仙霞路321百科苑大楼东座3-4层'}, {'name': 'CHICK', 'lng': '121.408074', 'lat': '31.213279', 'address': '古北路555弄6号'}, {'name': '中泽苑233号', 'lng': '121.178405', 'lat': '31.143042', 'address': '上海市青浦区'}, {'name': '爱club', 'lng': '121.246455', 'lat': '31.011748', 'address': '普照路95号'}, {'name': 'LOUNGE', 'lng': '121.52851', 'lat': '31.235219', 'address': '东方路899号上海浦东假日酒店1层'}, {'name': '上海皇豪大酒店-雪茄吧', 'lng': '121.729111', 'lat': '31.371181', 'address': '新兴支路2号上海皇豪大酒店'}, {'name': 'level7', 'lng': '121.407261', 'lat': '31.216314', 'address': '上海市长宁区古北路451号'}, {'name': '海神诺富特大酒店-行政酒廊', 'lng': '121.531293', 'lat': '31.245204', 'address': '上海市浦东新区浦东大道728号上海海神诺富特大酒店48层'}, {'name': '衡山金仓永华大酒店-行政酒廊', 'lng': '121.44711', 'lat': '31.371907', 'address': '水产路2659号衡山金仓永华大酒店12层'}, {'name': '锦雪苑-行政酒廊', 'lng': '121.539392', 'lat': '31.310762', 'address': '翔殷路631号锦雪苑3层'}, {'name': '池畔吧', 'lng': '121.509004', 'lat': '31.300733', 'address': '邯郸路199号上海复旦皇冠假日酒店3楼'}, {'name': 'Milk Club随心订(凉城一村北)', 'lng': '121.483142', 'lat': '31.297386', 'address': '水电路79号附近'}, {'name': 'hv club', 'lng': '121.441152', 'lat': '31.335138', 'address': '长江西路2335'}, {'name': '上海辅特戴斯酒店大堂吧', 'lng': '121.203177', 'lat': '31.416798', 'address': '上海市嘉定区汇源路788号辅特戴斯酒店1层'}, {'name': 'QINCHI CLUB', 'lng': '121.264172', 'lat': '31.37453', 'address': '民乐路5号附近'}, {'name': 'Bund1846', 'lng': '121.497349', 'lat': '31.249963', 'address': '上海市虹口区黄浦路衡山集团浦江饭店(上海大厦东)'}, {'name': '丰巢自提柜', 'lng': '121.474611', 'lat': '31.218471', 'address': '瑞金二路197号瑞金医院10号楼'}, {'name': '青青艺术酒吧', 'lng': '121.470165', 'lat': '31.2152', 'address': '黄浦区绍兴路19号(近瑞金二路)'}, {'name': '燃Bar', 'lng': '121.44178', 'lat': '31.232864', 'address': '武定西路1188-2号'}, {'name': '奥林匹克俱乐部-花园吧', 'lng': '121.445254', 'lat': '31.185673', 'address': '中山南二路1800号上海奥林匹克俱乐部1层'}, {'name': '线', 'lng': '121.37967', 'lat': '31.174614', 'address': '上海市闵行区'}, {'name': '嗨咪嗨咪', 'lng': '121.348314', 'lat': '31.171446', 'address': '上海市闵行区七莘路3655号凯德七宝购物广场1层'}, {'name': '丰巢自提柜', 'lng': '121.283157', 'lat': '31.023332', 'address': '绿泽生物门口'}, {'name': '1983易拜优店(晨甘)', 'lng': '121.477049', 'lat': '31.310606', 'address': '上海市虹口区凉城路1315号3号楼103室'}, {'name': '丰巢自提柜', 'lng': '121.618919', 'lat': '31.267528', 'address': '金桥镇金高路2131弄金舍苑47号楼'}, {'name': '上海金桥红枫万豪酒店-大堂酒廊', 'lng': '121.598193', 'lat': '31.250072', 'address': '上海市浦东新区新金桥路15号上海金桥红枫万豪酒店1层'}, {'name': 'NB8球Bar', 'lng': '121.555817', 'lat': '31.212511', 'address': '樱花路291号(菜市场3楼)'}, {'name': 'Lobby Lounge(裕景店)', 'lng': '121.526897', 'lat': '31.246767', 'address': '浦东大道535号裕景大饭店'}, {'name': '瀚海明玉大酒店-行政酒廊', 'lng': '121.521621', 'lat': '31.271321', 'address': '周家嘴路1888号附近'}, {'name': 'BLING BLING', 'lng': '121.487972', 'lat': '31.252772', 'address': '上海市静安区区河南北路233号圣和圣时尚汇F2'}, {'name': '僧VAPOR BAR', 'lng': '121.474084', 'lat': '31.245403', 'address': '乌镇路与新闸路交叉口东50米'}, {'name': 'LAHOS', 'lng': '121.493106', 'lat': '31.242825', 'address': '江西中路255-3号'}, {'name': '浦江楼行政酒廊', 'lng': '121.506053', 'lat': '31.241418', 'address': '富城路33号浦东香格里拉大酒店'}, {'name': '行者', 'lng': '121.475348', 'lat': '31.214', 'address': '泰康路248弄12号'}, {'name': 'langefhon', 'lng': '121.481207', 'lat': '31.227135', 'address': '上海市黄浦区'}, {'name': 'ROUTE66', 'lng': '121.417663', 'lat': '31.276721', 'address': '上海市普陀区真华路888号巴黎春天F4'}, {'name': '蔻芙', 'lng': '121.458824', 'lat': '31.233144', 'address': '南京西路1376号上海商城2层206A'}, {'name': 'Yummy Juice Bar(安福路店)', 'lng': '121.448473', 'lat': '31.219606', 'address': '安福路249弄1号(近话剧艺术中心)'}, {'name': 'Yongfu 17 永福17', 'lng': '121.450479', 'lat': '31.217869', 'address': '永福路17号'}, {'name': '竹之信仰', 'lng': '121.462541', 'lat': '31.220904', 'address': '汾阳路3-2号楼附近'}, {'name': '620 wine', 'lng': '121.455453', 'lat': '31.211178', 'address': '乌鲁木齐南路117-121南9室(近永嘉路620号)'}]\n"
     ]
    }
   ],
   "source": [
    "# 读取文件m\n",
    "pic2 =open('C:/Users/chen jia ni/Desktop/m.pkl','rb')\n",
    "\n",
    "data=pickle.load(pic2)\n",
    "print(data)"
   ]
  },
  {
   "cell_type": "markdown",
   "metadata": {},
   "source": [
    "写成txt会改变python中的内容，变成字符串"
   ]
  }
 ],
 "metadata": {
  "kernelspec": {
   "display_name": "Python 3",
   "language": "python",
   "name": "python3"
  },
  "language_info": {
   "codemirror_mode": {
    "name": "ipython",
    "version": 3
   },
   "file_extension": ".py",
   "mimetype": "text/x-python",
   "name": "python",
   "nbconvert_exporter": "python",
   "pygments_lexer": "ipython3",
   "version": "3.6.3"
  }
 },
 "nbformat": 4,
 "nbformat_minor": 2
}
