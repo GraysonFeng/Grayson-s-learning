{
 "cells": [
  {
   "cell_type": "code",
   "execution_count": null,
   "metadata": {},
   "outputs": [],
   "source": [
    "'''\n",
    "【项目02】  基于Python的算法函数创建\n",
    "\n",
    "作业要求：\n",
    "根据不同题目，完成代码书写并成功运行\n",
    "\n",
    "'''"
   ]
  },
  {
   "cell_type": "code",
   "execution_count": 2,
   "metadata": {},
   "outputs": [
    {
     "name": "stdout",
     "output_type": "stream",
     "text": [
      "满足条件的数字一共有12个.\n",
      "['12', '13', '14', '21', '23', '24', '31', '32', '34', '41', '42', '43']\n"
     ]
    }
   ],
   "source": [
    "# 题目1：有1、2、3、4个数字，能组成多少个互不相同且无重复数字的两位数？都是多少？\n",
    "# 该题目不用创建函数\n",
    "# 答案1：\n",
    "n = 0\n",
    "m = []\n",
    "for i in range(1,5):\n",
    "    for j in range(1,5):\n",
    "        if i != j:\n",
    "            n += 1\n",
    "            num ='%i%i'% (i,j)\n",
    "            m.append(num)\n",
    "print('满足条件的数字一共有%i个.'%n)\n",
    "print(m)"
   ]
  },
  {
   "cell_type": "code",
   "execution_count": 8,
   "metadata": {},
   "outputs": [
    {
     "name": "stdout",
     "output_type": "stream",
     "text": [
      "请输入第1个数字: a\n",
      "输入的内容不为数字，请重新输入第1个数字 2\n",
      "请输入第2个数字: 32\n",
      "请输入第3个数字: r\n",
      "输入的内容不为数字，请重新输入第3个数字 32\n"
     ]
    },
    {
     "data": {
      "text/plain": [
       "[2.0, 32.0, 32.0]"
      ]
     },
     "execution_count": 8,
     "metadata": {},
     "output_type": "execute_result"
    }
   ],
   "source": [
    "# 题目2：输入三个整数x,y,z，请把这三个数由小到大输出，可调用input()。（需要加判断：判断输入数据是否为数字）\n",
    "# 提示：判断是否为数字：.isdigit()\n",
    "# 该题目需要创建函数\n",
    "# 答案2：\n",
    "def f(n):\n",
    "    lst = []\n",
    "    for i in range(1,n+1):\n",
    "        num = input('请输入第%i个数字: '%i)\n",
    "        while num.isdigit()== False:\n",
    "            num = input('输入的内容不为数字，请重新输入第%i个数字 '%i)\n",
    "        else:\n",
    "            lst.append(float(num))\n",
    "    return(sorted(lst))\n",
    "f(3)"
   ]
  },
  {
   "cell_type": "code",
   "execution_count": 14,
   "metadata": {},
   "outputs": [
    {
     "name": "stdout",
     "output_type": "stream",
     "text": [
      "请输入一行字符:\n",
      "2131  kkk??\n",
      "输入的字符中，有3个字母，有2个空格，有4个数字及其它字符2个。\n",
      "输入的字符中，有3个字母，有2个空格，有4个数字及其它字符2个.\n"
     ]
    }
   ],
   "source": [
    "# 题目3：输入一行字符，分别统计出其中英文字母、空格、数字和其它字符的个数。\n",
    "# 提示：利用while语句,条件为输入的字符不为'\\n'.\n",
    "# 该题目不需要创建函数\n",
    "# 答案3\n",
    "st = input('请输入一行字符:\\n')\n",
    "letters = 0\n",
    "space = 0\n",
    "digit = 0\n",
    "others = 0\n",
    "for c in st:\n",
    "    if c.isalpha():\n",
    "        letters +=1\n",
    "    elif c.isdigit():\n",
    "        digit +=1\n",
    "    elif c.isspace():\n",
    "        space +=1\n",
    "    else:\n",
    "        others +=1\n",
    "print('输入的字符中，有%i个字母，有%i个空格，有%i个数字及其它字符%i个。'%(letters,space,digit,others))\n",
    "print('输入的字符中，有{}个字母，有{}个空格，有{}个数字及其它字符{}个.'.format(letters,space,digit,others))"
   ]
  },
  {
   "cell_type": "code",
   "execution_count": 15,
   "metadata": {},
   "outputs": [
    {
     "name": "stdout",
     "output_type": "stream",
     "text": [
      "第9天剩4个桃子\n",
      "第8天剩10个桃子\n",
      "第7天剩22个桃子\n",
      "第6天剩46个桃子\n",
      "第5天剩94个桃子\n",
      "第4天剩190个桃子\n",
      "第3天剩382个桃子\n",
      "第2天剩766个桃子\n",
      "第1天剩1534个桃子\n",
      "第一天共摘了1534个桃子\n"
     ]
    }
   ],
   "source": [
    "# 题目4：猴子吃桃问题\n",
    "# 猴子第一天摘下若干个桃子，当即吃了一半，还不瘾，又多吃了一个,\n",
    "# 第二天早上又将剩下的桃子吃掉一半，又多吃了一个。\n",
    "# 以后每天早上都吃了前一天剩下的一半零一个。到第10天早上想再吃时，见只剩下一个桃子了。求第一天共摘了多少?\n",
    "# 提示：采取逆向思维的方法，从后往前推断。\n",
    "# 该题目不需要创建函数\n",
    "# 答案4：\n",
    "n = 1\n",
    "for day in range(9,0,-1):\n",
    "    m = (n+1)*2\n",
    "    n = m\n",
    "    print('第%i天剩%i个桃子'%(day,n))\n",
    "print('第一天共摘了%i个桃子'%n)"
   ]
  },
  {
   "cell_type": "code",
   "execution_count": 16,
   "metadata": {},
   "outputs": [
    {
     "name": "stdout",
     "output_type": "stream",
     "text": [
      "请输入一个数字（小于1000）：55\n",
      "猜小了\n",
      "请重新输入一个数字（小于1000）：999\n",
      "猜大了\n",
      "请重新输入一个数字（小于1000）：500\n",
      "猜小了\n",
      "请重新输入一个数字（小于1000）：5000\n",
      "猜大了\n",
      "请重新输入一个数字（小于1000）：700\n",
      "猜小了\n",
      "请重新输入一个数字（小于1000）：800\n",
      "猜小了\n",
      "请重新输入一个数字（小于1000）：855\n",
      "猜小了\n",
      "请重新输入一个数字（小于1000）：899\n",
      "猜大了\n",
      "请重新输入一个数字（小于1000）：877\n",
      "猜大了\n",
      "请重新输入一个数字（小于1000）：866\n",
      "猜大了\n",
      "请重新输入一个数字（小于1000）：860\n",
      "猜大了\n",
      "请重新输入一个数字（小于1000）：857\n",
      "猜小了\n",
      "请重新输入一个数字（小于1000）：858\n",
      "猜小了\n",
      "请重新输入一个数字（小于1000）：859\n",
      "恭喜猜对了，正确答案是859\n",
      "共耗时51.567517秒\n"
     ]
    }
   ],
   "source": [
    "# 题目5：猜数字问题，要求如下：\n",
    "# ① 随机生成一个整数\n",
    "# ② 猜一个数字并输入\n",
    "# ③ 判断是大是小，直到猜正确\n",
    "# ④ 判断时间\n",
    "# 提示：需要用time模块、random模块\n",
    "# 该题目不需要创建函数\n",
    "# 答案5：\n",
    "#导入模块\n",
    "import time\n",
    "import random\n",
    "n = random.randint(0,1000)\n",
    "c = int(input('请输入一个数字（小于1000）：'))#转换成整数型\n",
    "start = time.time()#记录开始时间点\n",
    "\n",
    "while c != n:\n",
    "    if c > n:\n",
    "        print('猜大了')\n",
    "        c = int(input('请重新输入一个数字（小于1000）：'))\n",
    "    else:\n",
    "        print('猜小了')\n",
    "        c = int(input('请重新输入一个数字（小于1000）：'))\n",
    "end = time.time()\n",
    "tm = end - start\n",
    "print('恭喜猜对了，正确答案是%i'%n)\n",
    "print('共耗时%f秒'%tm)"
   ]
  },
  {
   "cell_type": "code",
   "execution_count": null,
   "metadata": {},
   "outputs": [],
   "source": []
  }
 ],
 "metadata": {
  "kernelspec": {
   "display_name": "Python 3",
   "language": "python",
   "name": "python3"
  },
  "language_info": {
   "codemirror_mode": {
    "name": "ipython",
    "version": 3
   },
   "file_extension": ".py",
   "mimetype": "text/x-python",
   "name": "python",
   "nbconvert_exporter": "python",
   "pygments_lexer": "ipython3",
   "version": "3.6.3"
  }
 },
 "nbformat": 4,
 "nbformat_minor": 2
}
