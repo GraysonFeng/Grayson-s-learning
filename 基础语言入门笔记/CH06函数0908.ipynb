{
 "cells": [
  {
   "cell_type": "markdown",
   "metadata": {},
   "source": [
    "## 查看函数参数"
   ]
  },
  {
   "cell_type": "markdown",
   "metadata": {},
   "source": [
    "## shift+tab"
   ]
  },
  {
   "cell_type": "code",
   "execution_count": 1,
   "metadata": {},
   "outputs": [
    {
     "name": "stdout",
     "output_type": "stream",
     "text": [
      "\n"
     ]
    }
   ],
   "source": [
    "print()#shift +tab查看参数"
   ]
  },
  {
   "cell_type": "markdown",
   "metadata": {},
   "source": [
    "## 通过help()"
   ]
  },
  {
   "cell_type": "code",
   "execution_count": 2,
   "metadata": {},
   "outputs": [
    {
     "name": "stdout",
     "output_type": "stream",
     "text": [
      "Help on built-in function print in module builtins:\n",
      "\n",
      "print(...)\n",
      "    print(value, ..., sep=' ', end='\\n', file=sys.stdout, flush=False)\n",
      "    \n",
      "    Prints the values to a stream, or to sys.stdout by default.\n",
      "    Optional keyword arguments:\n",
      "    file:  a file-like object (stream); defaults to the current sys.stdout.\n",
      "    sep:   string inserted between values, default a space.\n",
      "    end:   string appended after the last value, default a newline.\n",
      "    flush: whether to forcibly flush the stream.\n",
      "\n"
     ]
    }
   ],
   "source": [
    "help(print)"
   ]
  },
  {
   "cell_type": "code",
   "execution_count": 3,
   "metadata": {},
   "outputs": [],
   "source": [
    "c=pow(2,3)#乘方"
   ]
  },
  {
   "cell_type": "code",
   "execution_count": 4,
   "metadata": {},
   "outputs": [
    {
     "data": {
      "text/plain": [
       "8"
      ]
     },
     "execution_count": 4,
     "metadata": {},
     "output_type": "execute_result"
    }
   ],
   "source": [
    "c"
   ]
  },
  {
   "cell_type": "code",
   "execution_count": 5,
   "metadata": {},
   "outputs": [
    {
     "data": {
      "text/plain": [
       "3.2123"
      ]
     },
     "execution_count": 5,
     "metadata": {},
     "output_type": "execute_result"
    }
   ],
   "source": [
    "round(3.21231214,4)#保留小数点位数"
   ]
  },
  {
   "cell_type": "code",
   "execution_count": 6,
   "metadata": {},
   "outputs": [
    {
     "data": {
      "text/plain": [
       "(2, 1)"
      ]
     },
     "execution_count": 6,
     "metadata": {},
     "output_type": "execute_result"
    }
   ],
   "source": [
    "divmod(5,2)#商和余数"
   ]
  },
  {
   "cell_type": "code",
   "execution_count": 7,
   "metadata": {},
   "outputs": [
    {
     "data": {
      "text/plain": [
       "list"
      ]
     },
     "execution_count": 7,
     "metadata": {},
     "output_type": "execute_result"
    }
   ],
   "source": [
    "type([1,2,3,4])"
   ]
  },
  {
   "cell_type": "code",
   "execution_count": 8,
   "metadata": {},
   "outputs": [
    {
     "data": {
      "text/plain": [
       "2265551726160"
      ]
     },
     "execution_count": 8,
     "metadata": {},
     "output_type": "execute_result"
    }
   ],
   "source": [
    "id('abds')"
   ]
  },
  {
   "cell_type": "code",
   "execution_count": 9,
   "metadata": {},
   "outputs": [
    {
     "data": {
      "text/plain": [
       "2"
      ]
     },
     "execution_count": 9,
     "metadata": {},
     "output_type": "execute_result"
    }
   ],
   "source": [
    "eval('1+1')"
   ]
  },
  {
   "cell_type": "markdown",
   "metadata": {},
   "source": [
    "# 自定义函数"
   ]
  },
  {
   "cell_type": "code",
   "execution_count": 4,
   "metadata": {},
   "outputs": [
    {
     "name": "stdout",
     "output_type": "stream",
     "text": [
      "请输入一个数字2\n",
      "正数\n",
      "请输入第2个数字0\n",
      "为零\n"
     ]
    }
   ],
   "source": [
    "# 定义函数\n",
    "\n",
    "var = float(input('请输入一个数字'))\n",
    "\n",
    "def f(x):\n",
    "    if x>0:\n",
    "        print('正数')\n",
    "    elif x==0:\n",
    "        print('为零')\n",
    "    else:\n",
    "        print('负数')\n",
    "f(var)\n",
    "var2 = float(input('请输入第2个数字'))\n",
    "f(var2)"
   ]
  },
  {
   "cell_type": "code",
   "execution_count": 5,
   "metadata": {},
   "outputs": [
    {
     "name": "stdout",
     "output_type": "stream",
     "text": [
      "hello\n"
     ]
    }
   ],
   "source": [
    "# 无参数\n",
    "\n",
    "def f():\n",
    "    print('hello')\n",
    "f()"
   ]
  },
  {
   "cell_type": "code",
   "execution_count": 6,
   "metadata": {},
   "outputs": [],
   "source": [
    "# 关于return \n",
    "\n",
    "def f1(x):\n",
    "    y=2**x\n",
    "f1(5)"
   ]
  },
  {
   "cell_type": "code",
   "execution_count": 9,
   "metadata": {},
   "outputs": [
    {
     "name": "stdout",
     "output_type": "stream",
     "text": [
      "None\n"
     ]
    }
   ],
   "source": [
    "def f1(x):\n",
    "    y=2**x\n",
    "    \n",
    "f1(5)\n",
    "print(f1(5))#没有return"
   ]
  },
  {
   "cell_type": "markdown",
   "metadata": {},
   "source": [
    "## 这里f1(5)本身没有值"
   ]
  },
  {
   "cell_type": "code",
   "execution_count": 14,
   "metadata": {},
   "outputs": [
    {
     "name": "stdout",
     "output_type": "stream",
     "text": [
      "32\n",
      "32\n",
      "None\n"
     ]
    }
   ],
   "source": [
    "def f1(x):\n",
    "    y=2**x\n",
    "    print(y)\n",
    "f1(5)\n",
    "print(f1(5))"
   ]
  },
  {
   "cell_type": "code",
   "execution_count": 11,
   "metadata": {},
   "outputs": [
    {
     "data": {
      "text/plain": [
       "32"
      ]
     },
     "execution_count": 11,
     "metadata": {},
     "output_type": "execute_result"
    }
   ],
   "source": [
    "def f1(x):\n",
    "    y=2**x\n",
    "    return(y)\n",
    "f1(5)"
   ]
  },
  {
   "cell_type": "code",
   "execution_count": 13,
   "metadata": {},
   "outputs": [
    {
     "name": "stdout",
     "output_type": "stream",
     "text": [
      "None\n"
     ]
    }
   ],
   "source": [
    "def f1(x):\n",
    "    y=2**x\n",
    "    #return(y)\n",
    "print(f1(5))"
   ]
  },
  {
   "cell_type": "code",
   "execution_count": 15,
   "metadata": {},
   "outputs": [
    {
     "name": "stdout",
     "output_type": "stream",
     "text": [
      "[[1, 'a'], [2, 'b'], [3, 'c']]\n"
     ]
    }
   ],
   "source": [
    "def f(lst1,lst2):\n",
    "    m=[]\n",
    "    for i in range(len(lst1)):\n",
    "        m.append([lst1[i],lst2[i]])\n",
    "    return(m)\n",
    "a=[1,2,3]\n",
    "b=['a','b','c']\n",
    "print(f(a,b))"
   ]
  },
  {
   "cell_type": "markdown",
   "metadata": {},
   "source": [
    "## 默认参数，就是在定义函数的时候先指定好"
   ]
  },
  {
   "cell_type": "code",
   "execution_count": 16,
   "metadata": {},
   "outputs": [
    {
     "name": "stdout",
     "output_type": "stream",
     "text": [
      "[[1, 'a'], [2, 'b'], [3, 'c']]\n"
     ]
    }
   ],
   "source": [
    "def f(lst1,lst2=['a','b','c']):\n",
    "    m=[]\n",
    "    for i in range(len(lst1)):\n",
    "        m.append([lst1[i],lst2[i]])\n",
    "    return(m)\n",
    "a=[1,2,3]\n",
    "\n",
    "print(f(a))"
   ]
  },
  {
   "cell_type": "markdown",
   "metadata": {},
   "source": [
    "## 可变参数"
   ]
  },
  {
   "cell_type": "markdown",
   "metadata": {},
   "source": [
    "通过符号*来定义可变参数"
   ]
  },
  {
   "cell_type": "code",
   "execution_count": 17,
   "metadata": {},
   "outputs": [
    {
     "name": "stdout",
     "output_type": "stream",
     "text": [
      "(1, 2, 34)\n"
     ]
    }
   ],
   "source": [
    "def f(*x):\n",
    "    return(x)\n",
    "print(f(1,2,34))"
   ]
  },
  {
   "cell_type": "markdown",
   "metadata": {},
   "source": [
    "默认会把可变参数传入一个元组"
   ]
  },
  {
   "cell_type": "code",
   "execution_count": 18,
   "metadata": {},
   "outputs": [
    {
     "name": "stdout",
     "output_type": "stream",
     "text": [
      "<class 'tuple'>\n"
     ]
    }
   ],
   "source": [
    "print(type(f(1,2,3)))"
   ]
  },
  {
   "cell_type": "code",
   "execution_count": 19,
   "metadata": {},
   "outputs": [
    {
     "name": "stdout",
     "output_type": "stream",
     "text": [
      "请输入一个字符串：2324\n",
      "2\n",
      "3\n",
      "2\n",
      "4\n"
     ]
    }
   ],
   "source": [
    "# 作业1\n",
    "def f(st):\n",
    "    for s in st:\n",
    "        print(s)\n",
    "st_input = input('请输入一个字符串：')\n",
    "f(st_input)"
   ]
  },
  {
   "cell_type": "code",
   "execution_count": 22,
   "metadata": {},
   "outputs": [
    {
     "data": {
      "text/plain": [
       "-9"
      ]
     },
     "execution_count": 22,
     "metadata": {},
     "output_type": "execute_result"
    }
   ],
   "source": [
    "# 作业2\n",
    "def f(x,y,z):#只要定义输入参数\n",
    "    output=((x+y)*(x-y))*z\n",
    "    return(output)\n",
    "f(1,2,3)"
   ]
  },
  {
   "cell_type": "code",
   "execution_count": 23,
   "metadata": {},
   "outputs": [
    {
     "data": {
      "text/plain": [
       "9.333333333333334"
      ]
     },
     "execution_count": 23,
     "metadata": {},
     "output_type": "execute_result"
    }
   ],
   "source": [
    "# 作业3\n",
    "def f(*m):#多参数，可变参数\n",
    "    y=sum(m)/len(m)\n",
    "    return(y)\n",
    "f(1,23,4)"
   ]
  },
  {
   "cell_type": "code",
   "execution_count": 27,
   "metadata": {},
   "outputs": [
    {
     "name": "stdout",
     "output_type": "stream",
     "text": [
      "[1]\n",
      "[1, 2]\n",
      "输入内容包含非数字\n",
      "[1, 2]\n",
      "[1, 2, 3]\n",
      "[1, 2, 3, 4]\n",
      "[1, 2, 3, 4, 5]\n",
      "3.0\n"
     ]
    }
   ],
   "source": [
    "# 作业3教学版\n",
    "\n",
    "def f(*m):\n",
    "    s = 0\n",
    "    lst = []\n",
    "    for i in m:\n",
    "        while str(i).isnumeric():\n",
    "            s += i\n",
    "            lst.append(i)\n",
    "            break\n",
    "        else:\n",
    "            print('输入内容包含非数字')\n",
    "        print(lst)\n",
    "    return(s/len(lst))\n",
    "print(f(1,2,\"bb\",3,4,5))"
   ]
  },
  {
   "cell_type": "code",
   "execution_count": 28,
   "metadata": {},
   "outputs": [],
   "source": [
    "# 作业4\n",
    "def area_jx(a,b):\n",
    "    return(a*b)"
   ]
  },
  {
   "cell_type": "code",
   "execution_count": 29,
   "metadata": {},
   "outputs": [
    {
     "name": "stdout",
     "output_type": "stream",
     "text": [
      "30\n"
     ]
    }
   ],
   "source": [
    "def area_jy(r):\n",
    "    return(2*r*3.1415926)\n",
    "print(area_jx(10,3))"
   ]
  },
  {
   "cell_type": "code",
   "execution_count": 30,
   "metadata": {},
   "outputs": [
    {
     "name": "stdout",
     "output_type": "stream",
     "text": [
      "31.415926\n"
     ]
    }
   ],
   "source": [
    "print(area_jy(5))"
   ]
  },
  {
   "cell_type": "code",
   "execution_count": 37,
   "metadata": {},
   "outputs": [
    {
     "name": "stdout",
     "output_type": "stream",
     "text": [
      "请输入一个列表[10,2,3,5]\n",
      "<class 'str'>\n"
     ]
    }
   ],
   "source": [
    "# 作业5\n",
    "lst=input('请输入一个列表')\n",
    "print(type(lst))"
   ]
  },
  {
   "cell_type": "markdown",
   "metadata": {},
   "source": [
    "用eval()函数可以把输入内容直接当python语句执行，输入列表就当列表执行"
   ]
  },
  {
   "cell_type": "code",
   "execution_count": 36,
   "metadata": {},
   "outputs": [
    {
     "name": "stdout",
     "output_type": "stream",
     "text": [
      "请输入一个列表[12,3,4,2]\n",
      "{12: 0, 3: 0, 4: 0, 2: 0}\n"
     ]
    }
   ],
   "source": [
    "# 作业5\n",
    "lst=eval(input('请输入一个列表'))\n",
    "def f(lt):\n",
    "    return(dict.fromkeys(lt,0))\n",
    "print(f(lst))"
   ]
  },
  {
   "cell_type": "markdown",
   "metadata": {},
   "source": [
    "## dict.fromkeys()：生成一个字典\n",
    "## eval()：执行一个表达式，或字符串作为运算。eval('1+3')>>>4"
   ]
  },
  {
   "cell_type": "markdown",
   "metadata": {},
   "source": [
    "## 局部变量"
   ]
  },
  {
   "cell_type": "markdown",
   "metadata": {},
   "source": [
    "### 通过 global将局部变量转为全局变量"
   ]
  },
  {
   "cell_type": "code",
   "execution_count": 38,
   "metadata": {},
   "outputs": [
    {
     "name": "stdout",
     "output_type": "stream",
     "text": [
      "10\n",
      "呵呵呵\n",
      "呵呵呵\n"
     ]
    }
   ],
   "source": [
    "def f():\n",
    "    global m\n",
    "    m = '呵呵呵'\n",
    "    return m\n",
    "m=10\n",
    "print(m)#此处还没运行函数\n",
    "print(f())\n",
    "print(m)"
   ]
  },
  {
   "cell_type": "markdown",
   "metadata": {},
   "source": [
    "## lambda 创建匿名函数"
   ]
  },
  {
   "cell_type": "code",
   "execution_count": 39,
   "metadata": {},
   "outputs": [
    {
     "name": "stdout",
     "output_type": "stream",
     "text": [
      "6\n",
      "6\n"
     ]
    }
   ],
   "source": [
    "def f(a,b,c):\n",
    "    return(a+b+c)\n",
    "print(f(1,2,3))\n",
    "\n",
    "f=lambda a,b,c:a+b+c#只是一个表达式，只能一行，不能多行\n",
    "print(f(1,2,3))"
   ]
  },
  {
   "cell_type": "markdown",
   "metadata": {},
   "source": [
    "# 小作业"
   ]
  },
  {
   "cell_type": "code",
   "execution_count": 42,
   "metadata": {},
   "outputs": [],
   "source": [
    "count = lambda lst:len(lst)#定义一个匿名函数"
   ]
  },
  {
   "cell_type": "code",
   "execution_count": 43,
   "metadata": {},
   "outputs": [
    {
     "name": "stdout",
     "output_type": "stream",
     "text": [
      "5\n"
     ]
    }
   ],
   "source": [
    "print(count([1,2,3,34,4]))"
   ]
  },
  {
   "cell_type": "code",
   "execution_count": 44,
   "metadata": {},
   "outputs": [
    {
     "name": "stdout",
     "output_type": "stream",
     "text": [
      "[988, 555, 88, 87, 66, 45, 4, 3, 2]\n"
     ]
    }
   ],
   "source": [
    "# 函数的参数是一元组\n",
    "\n",
    "def f(*var):\n",
    "    lst = list(var)#先变成一个列表 \n",
    "    lst_re = sorted(lst,reverse = True)#reverse 反向\n",
    "    return(lst_re)\n",
    "print(f(2,3,4,555,87,45,66,88,988))"
   ]
  },
  {
   "cell_type": "markdown",
   "metadata": {},
   "source": [
    "定义一个函数，随意输入一个学生的成绩后，学习成绩》=90分的同学用A表示，\n",
    "60-89分之间的用B表示，60分以下的用C表示，最后输出成绩评分"
   ]
  },
  {
   "cell_type": "code",
   "execution_count": 47,
   "metadata": {},
   "outputs": [
    {
     "name": "stdout",
     "output_type": "stream",
     "text": [
      "['B', 'A', 'B', 'B', 'A']\n",
      "83.4\n"
     ]
    }
   ],
   "source": [
    "def f(*scores):\n",
    "    s = 0\n",
    "    m = []\n",
    "    for i in scores:\n",
    "        if i >= 90:\n",
    "            m.append('A')\n",
    "        elif i>60 and i<90:\n",
    "            m.append('B')\n",
    "        else:\n",
    "            m.append('C')\n",
    "        s += i#s是累加值，scores是参数这个元组\n",
    "    mean= s/len(scores)\n",
    "    return([m,mean])\n",
    "\n",
    "\n",
    "result = f(89,92,78,65,93)\n",
    "print(result[0])\n",
    "print(result[1])"
   ]
  },
  {
   "cell_type": "markdown",
   "metadata": {},
   "source": [
    "定义一个函数，可统计出输入任意的字符中英文字母，空格，数字和其它字符的个数"
   ]
  },
  {
   "cell_type": "markdown",
   "metadata": {},
   "source": [
    "思路：判断类型 \n",
    "判断是否是字母：st.isalpha()\n",
    "    是否空格：st.isspace()\n",
    "    是否数字：st.isdigit()"
   ]
  }
 ],
 "metadata": {
  "kernelspec": {
   "display_name": "Python 3",
   "language": "python",
   "name": "python3"
  },
  "language_info": {
   "codemirror_mode": {
    "name": "ipython",
    "version": 3
   },
   "file_extension": ".py",
   "mimetype": "text/x-python",
   "name": "python",
   "nbconvert_exporter": "python",
   "pygments_lexer": "ipython3",
   "version": "3.6.3"
  }
 },
 "nbformat": 4,
 "nbformat_minor": 2
}
